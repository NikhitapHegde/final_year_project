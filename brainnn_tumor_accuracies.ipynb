{
  "nbformat": 4,
  "nbformat_minor": 0,
  "metadata": {
    "colab": {
      "provenance": [],
      "gpuType": "V28",
      "include_colab_link": true
    },
    "kernelspec": {
      "name": "python3",
      "display_name": "Python 3"
    },
    "language_info": {
      "name": "python"
    },
    "accelerator": "TPU"
  },
  "cells": [
    {
      "cell_type": "markdown",
      "metadata": {
        "id": "view-in-github",
        "colab_type": "text"
      },
      "source": [
        "<a href=\"https://colab.research.google.com/github/NikhitapHegde/final_year_project/blob/main/brainnn_tumor_accuracies.ipynb\" target=\"_parent\"><img src=\"https://colab.research.google.com/assets/colab-badge.svg\" alt=\"Open In Colab\"/></a>"
      ]
    },
    {
      "cell_type": "code",
      "execution_count": null,
      "metadata": {
        "id": "QqTiaOGPDCVZ"
      },
      "outputs": [],
      "source": [
        "import numpy as np\n",
        "import matplotlib.pyplot as plt\n",
        "from tqdm import tqdm\n",
        "import cv2\n",
        "import os\n",
        "import seaborn as sns\n",
        "import tensorflow as tf\n",
        "os.environ['TF_CPP_MIN_LOG_LEVEL'] = '3'\n",
        "\n",
        "from keras.models import Sequential, Model\n",
        "from keras.layers import Dense, Flatten, Conv2D, Reshape, Input, Conv2DTranspose\n",
        "from keras.layers import Activation, LeakyReLU, BatchNormalization, Dropout, Resizing\n",
        "from keras.losses import BinaryCrossentropy\n",
        "from tensorflow.keras.applications import VGG16\n",
        "\n",
        "import warnings\n",
        "warnings.filterwarnings('ignore')\n",
        "\n",
        "try:\n",
        "    from tensorflow.keras.optimizers import Adam\n",
        "except:\n",
        "    from keras.optimizers import Adam"
      ]
    },
    {
      "cell_type": "code",
      "source": [
        "# NOISE_DIM = 100\n",
        "# BATCH_SIZE = 4\n",
        "# STEPS_PER_EPOCH = 3750\n",
        "# EPOCHS = 10\n",
        "# SEED = 40\n",
        "# WIDTH, HEIGHT, CHANNELS = 128, 128, 1\n",
        "\n",
        "# OPTIMIZER = Adam(0.0002, 0.5)\n",
        "\n",
        "NOISE_DIM = 100\n",
        "BATCH_SIZE = 6   # Increase slightly from 4 to 8\n",
        "STEPS_PER_EPOCH = 100  # Adjust based on dataset size\n",
        "EPOCHS = 20  # Keep the same, increase to 20-30 if needed\n",
        "SEED = 40  # No change\n",
        "WIDTH, HEIGHT, CHANNELS = 128, 128, 1  # No change\n",
        "OPTIMIZER = Adam(0.0002, 0.5)  # No change"
      ],
      "metadata": {
        "id": "1jSzYpATDW_4"
      },
      "execution_count": null,
      "outputs": []
    },
    {
      "cell_type": "code",
      "source": [
        "from google.colab import files\n",
        "\n",
        "# Upload the ZIP file\n",
        "uploaded = files.upload()"
      ],
      "metadata": {
        "colab": {
          "base_uri": "https://localhost:8080/",
          "height": 73
        },
        "id": "AsoxbSD8DaCh",
        "outputId": "790af295-9e39-4735-d97d-3ce4133bbe1b"
      },
      "execution_count": null,
      "outputs": [
        {
          "output_type": "display_data",
          "data": {
            "text/plain": [
              "<IPython.core.display.HTML object>"
            ],
            "text/html": [
              "\n",
              "     <input type=\"file\" id=\"files-fec5d7dc-dc1c-48dd-8bcf-b51cfe812952\" name=\"files[]\" multiple disabled\n",
              "        style=\"border:none\" />\n",
              "     <output id=\"result-fec5d7dc-dc1c-48dd-8bcf-b51cfe812952\">\n",
              "      Upload widget is only available when the cell has been executed in the\n",
              "      current browser session. Please rerun this cell to enable.\n",
              "      </output>\n",
              "      <script>// Copyright 2017 Google LLC\n",
              "//\n",
              "// Licensed under the Apache License, Version 2.0 (the \"License\");\n",
              "// you may not use this file except in compliance with the License.\n",
              "// You may obtain a copy of the License at\n",
              "//\n",
              "//      http://www.apache.org/licenses/LICENSE-2.0\n",
              "//\n",
              "// Unless required by applicable law or agreed to in writing, software\n",
              "// distributed under the License is distributed on an \"AS IS\" BASIS,\n",
              "// WITHOUT WARRANTIES OR CONDITIONS OF ANY KIND, either express or implied.\n",
              "// See the License for the specific language governing permissions and\n",
              "// limitations under the License.\n",
              "\n",
              "/**\n",
              " * @fileoverview Helpers for google.colab Python module.\n",
              " */\n",
              "(function(scope) {\n",
              "function span(text, styleAttributes = {}) {\n",
              "  const element = document.createElement('span');\n",
              "  element.textContent = text;\n",
              "  for (const key of Object.keys(styleAttributes)) {\n",
              "    element.style[key] = styleAttributes[key];\n",
              "  }\n",
              "  return element;\n",
              "}\n",
              "\n",
              "// Max number of bytes which will be uploaded at a time.\n",
              "const MAX_PAYLOAD_SIZE = 100 * 1024;\n",
              "\n",
              "function _uploadFiles(inputId, outputId) {\n",
              "  const steps = uploadFilesStep(inputId, outputId);\n",
              "  const outputElement = document.getElementById(outputId);\n",
              "  // Cache steps on the outputElement to make it available for the next call\n",
              "  // to uploadFilesContinue from Python.\n",
              "  outputElement.steps = steps;\n",
              "\n",
              "  return _uploadFilesContinue(outputId);\n",
              "}\n",
              "\n",
              "// This is roughly an async generator (not supported in the browser yet),\n",
              "// where there are multiple asynchronous steps and the Python side is going\n",
              "// to poll for completion of each step.\n",
              "// This uses a Promise to block the python side on completion of each step,\n",
              "// then passes the result of the previous step as the input to the next step.\n",
              "function _uploadFilesContinue(outputId) {\n",
              "  const outputElement = document.getElementById(outputId);\n",
              "  const steps = outputElement.steps;\n",
              "\n",
              "  const next = steps.next(outputElement.lastPromiseValue);\n",
              "  return Promise.resolve(next.value.promise).then((value) => {\n",
              "    // Cache the last promise value to make it available to the next\n",
              "    // step of the generator.\n",
              "    outputElement.lastPromiseValue = value;\n",
              "    return next.value.response;\n",
              "  });\n",
              "}\n",
              "\n",
              "/**\n",
              " * Generator function which is called between each async step of the upload\n",
              " * process.\n",
              " * @param {string} inputId Element ID of the input file picker element.\n",
              " * @param {string} outputId Element ID of the output display.\n",
              " * @return {!Iterable<!Object>} Iterable of next steps.\n",
              " */\n",
              "function* uploadFilesStep(inputId, outputId) {\n",
              "  const inputElement = document.getElementById(inputId);\n",
              "  inputElement.disabled = false;\n",
              "\n",
              "  const outputElement = document.getElementById(outputId);\n",
              "  outputElement.innerHTML = '';\n",
              "\n",
              "  const pickedPromise = new Promise((resolve) => {\n",
              "    inputElement.addEventListener('change', (e) => {\n",
              "      resolve(e.target.files);\n",
              "    });\n",
              "  });\n",
              "\n",
              "  const cancel = document.createElement('button');\n",
              "  inputElement.parentElement.appendChild(cancel);\n",
              "  cancel.textContent = 'Cancel upload';\n",
              "  const cancelPromise = new Promise((resolve) => {\n",
              "    cancel.onclick = () => {\n",
              "      resolve(null);\n",
              "    };\n",
              "  });\n",
              "\n",
              "  // Wait for the user to pick the files.\n",
              "  const files = yield {\n",
              "    promise: Promise.race([pickedPromise, cancelPromise]),\n",
              "    response: {\n",
              "      action: 'starting',\n",
              "    }\n",
              "  };\n",
              "\n",
              "  cancel.remove();\n",
              "\n",
              "  // Disable the input element since further picks are not allowed.\n",
              "  inputElement.disabled = true;\n",
              "\n",
              "  if (!files) {\n",
              "    return {\n",
              "      response: {\n",
              "        action: 'complete',\n",
              "      }\n",
              "    };\n",
              "  }\n",
              "\n",
              "  for (const file of files) {\n",
              "    const li = document.createElement('li');\n",
              "    li.append(span(file.name, {fontWeight: 'bold'}));\n",
              "    li.append(span(\n",
              "        `(${file.type || 'n/a'}) - ${file.size} bytes, ` +\n",
              "        `last modified: ${\n",
              "            file.lastModifiedDate ? file.lastModifiedDate.toLocaleDateString() :\n",
              "                                    'n/a'} - `));\n",
              "    const percent = span('0% done');\n",
              "    li.appendChild(percent);\n",
              "\n",
              "    outputElement.appendChild(li);\n",
              "\n",
              "    const fileDataPromise = new Promise((resolve) => {\n",
              "      const reader = new FileReader();\n",
              "      reader.onload = (e) => {\n",
              "        resolve(e.target.result);\n",
              "      };\n",
              "      reader.readAsArrayBuffer(file);\n",
              "    });\n",
              "    // Wait for the data to be ready.\n",
              "    let fileData = yield {\n",
              "      promise: fileDataPromise,\n",
              "      response: {\n",
              "        action: 'continue',\n",
              "      }\n",
              "    };\n",
              "\n",
              "    // Use a chunked sending to avoid message size limits. See b/62115660.\n",
              "    let position = 0;\n",
              "    do {\n",
              "      const length = Math.min(fileData.byteLength - position, MAX_PAYLOAD_SIZE);\n",
              "      const chunk = new Uint8Array(fileData, position, length);\n",
              "      position += length;\n",
              "\n",
              "      const base64 = btoa(String.fromCharCode.apply(null, chunk));\n",
              "      yield {\n",
              "        response: {\n",
              "          action: 'append',\n",
              "          file: file.name,\n",
              "          data: base64,\n",
              "        },\n",
              "      };\n",
              "\n",
              "      let percentDone = fileData.byteLength === 0 ?\n",
              "          100 :\n",
              "          Math.round((position / fileData.byteLength) * 100);\n",
              "      percent.textContent = `${percentDone}% done`;\n",
              "\n",
              "    } while (position < fileData.byteLength);\n",
              "  }\n",
              "\n",
              "  // All done.\n",
              "  yield {\n",
              "    response: {\n",
              "      action: 'complete',\n",
              "    }\n",
              "  };\n",
              "}\n",
              "\n",
              "scope.google = scope.google || {};\n",
              "scope.google.colab = scope.google.colab || {};\n",
              "scope.google.colab._files = {\n",
              "  _uploadFiles,\n",
              "  _uploadFilesContinue,\n",
              "};\n",
              "})(self);\n",
              "</script> "
            ]
          },
          "metadata": {}
        },
        {
          "output_type": "stream",
          "name": "stdout",
          "text": [
            "Saving archive (1).zip to archive (1).zip\n"
          ]
        }
      ]
    },
    {
      "cell_type": "code",
      "source": [
        "import zipfile\n",
        "import os\n",
        "\n",
        "# Define the name of the uploaded ZIP file\n",
        "zip_file_name = 'archive (1).zip'  # Change this if your file has a different name\n",
        "\n",
        "# Extract the ZIP file\n",
        "with zipfile.ZipFile(zip_file_name, 'r') as zip_ref:\n",
        "    zip_ref.extractall('extracted_files')\n",
        "\n",
        "print(\"Files extracted to: extracted_files/\")"
      ],
      "metadata": {
        "colab": {
          "base_uri": "https://localhost:8080/"
        },
        "id": "zRb1QFE1DfZJ",
        "outputId": "fe09f41c-6514-4458-8972-0c35cc8dd7cf"
      },
      "execution_count": null,
      "outputs": [
        {
          "output_type": "stream",
          "name": "stdout",
          "text": [
            "Files extracted to: extracted_files/\n"
          ]
        }
      ]
    },
    {
      "cell_type": "code",
      "source": [
        "from google.colab import files\n",
        "\n",
        "# Upload the ZIP file\n",
        "uploaded = files.upload()"
      ],
      "metadata": {
        "colab": {
          "base_uri": "https://localhost:8080/",
          "height": 73
        },
        "id": "f5eZtBbgIUKq",
        "outputId": "f0fd96cb-fa87-4de7-9fd1-bbfa582183a9"
      },
      "execution_count": null,
      "outputs": [
        {
          "output_type": "display_data",
          "data": {
            "text/plain": [
              "<IPython.core.display.HTML object>"
            ],
            "text/html": [
              "\n",
              "     <input type=\"file\" id=\"files-141a8d8c-548b-486b-96ec-38e63db7f8dc\" name=\"files[]\" multiple disabled\n",
              "        style=\"border:none\" />\n",
              "     <output id=\"result-141a8d8c-548b-486b-96ec-38e63db7f8dc\">\n",
              "      Upload widget is only available when the cell has been executed in the\n",
              "      current browser session. Please rerun this cell to enable.\n",
              "      </output>\n",
              "      <script>// Copyright 2017 Google LLC\n",
              "//\n",
              "// Licensed under the Apache License, Version 2.0 (the \"License\");\n",
              "// you may not use this file except in compliance with the License.\n",
              "// You may obtain a copy of the License at\n",
              "//\n",
              "//      http://www.apache.org/licenses/LICENSE-2.0\n",
              "//\n",
              "// Unless required by applicable law or agreed to in writing, software\n",
              "// distributed under the License is distributed on an \"AS IS\" BASIS,\n",
              "// WITHOUT WARRANTIES OR CONDITIONS OF ANY KIND, either express or implied.\n",
              "// See the License for the specific language governing permissions and\n",
              "// limitations under the License.\n",
              "\n",
              "/**\n",
              " * @fileoverview Helpers for google.colab Python module.\n",
              " */\n",
              "(function(scope) {\n",
              "function span(text, styleAttributes = {}) {\n",
              "  const element = document.createElement('span');\n",
              "  element.textContent = text;\n",
              "  for (const key of Object.keys(styleAttributes)) {\n",
              "    element.style[key] = styleAttributes[key];\n",
              "  }\n",
              "  return element;\n",
              "}\n",
              "\n",
              "// Max number of bytes which will be uploaded at a time.\n",
              "const MAX_PAYLOAD_SIZE = 100 * 1024;\n",
              "\n",
              "function _uploadFiles(inputId, outputId) {\n",
              "  const steps = uploadFilesStep(inputId, outputId);\n",
              "  const outputElement = document.getElementById(outputId);\n",
              "  // Cache steps on the outputElement to make it available for the next call\n",
              "  // to uploadFilesContinue from Python.\n",
              "  outputElement.steps = steps;\n",
              "\n",
              "  return _uploadFilesContinue(outputId);\n",
              "}\n",
              "\n",
              "// This is roughly an async generator (not supported in the browser yet),\n",
              "// where there are multiple asynchronous steps and the Python side is going\n",
              "// to poll for completion of each step.\n",
              "// This uses a Promise to block the python side on completion of each step,\n",
              "// then passes the result of the previous step as the input to the next step.\n",
              "function _uploadFilesContinue(outputId) {\n",
              "  const outputElement = document.getElementById(outputId);\n",
              "  const steps = outputElement.steps;\n",
              "\n",
              "  const next = steps.next(outputElement.lastPromiseValue);\n",
              "  return Promise.resolve(next.value.promise).then((value) => {\n",
              "    // Cache the last promise value to make it available to the next\n",
              "    // step of the generator.\n",
              "    outputElement.lastPromiseValue = value;\n",
              "    return next.value.response;\n",
              "  });\n",
              "}\n",
              "\n",
              "/**\n",
              " * Generator function which is called between each async step of the upload\n",
              " * process.\n",
              " * @param {string} inputId Element ID of the input file picker element.\n",
              " * @param {string} outputId Element ID of the output display.\n",
              " * @return {!Iterable<!Object>} Iterable of next steps.\n",
              " */\n",
              "function* uploadFilesStep(inputId, outputId) {\n",
              "  const inputElement = document.getElementById(inputId);\n",
              "  inputElement.disabled = false;\n",
              "\n",
              "  const outputElement = document.getElementById(outputId);\n",
              "  outputElement.innerHTML = '';\n",
              "\n",
              "  const pickedPromise = new Promise((resolve) => {\n",
              "    inputElement.addEventListener('change', (e) => {\n",
              "      resolve(e.target.files);\n",
              "    });\n",
              "  });\n",
              "\n",
              "  const cancel = document.createElement('button');\n",
              "  inputElement.parentElement.appendChild(cancel);\n",
              "  cancel.textContent = 'Cancel upload';\n",
              "  const cancelPromise = new Promise((resolve) => {\n",
              "    cancel.onclick = () => {\n",
              "      resolve(null);\n",
              "    };\n",
              "  });\n",
              "\n",
              "  // Wait for the user to pick the files.\n",
              "  const files = yield {\n",
              "    promise: Promise.race([pickedPromise, cancelPromise]),\n",
              "    response: {\n",
              "      action: 'starting',\n",
              "    }\n",
              "  };\n",
              "\n",
              "  cancel.remove();\n",
              "\n",
              "  // Disable the input element since further picks are not allowed.\n",
              "  inputElement.disabled = true;\n",
              "\n",
              "  if (!files) {\n",
              "    return {\n",
              "      response: {\n",
              "        action: 'complete',\n",
              "      }\n",
              "    };\n",
              "  }\n",
              "\n",
              "  for (const file of files) {\n",
              "    const li = document.createElement('li');\n",
              "    li.append(span(file.name, {fontWeight: 'bold'}));\n",
              "    li.append(span(\n",
              "        `(${file.type || 'n/a'}) - ${file.size} bytes, ` +\n",
              "        `last modified: ${\n",
              "            file.lastModifiedDate ? file.lastModifiedDate.toLocaleDateString() :\n",
              "                                    'n/a'} - `));\n",
              "    const percent = span('0% done');\n",
              "    li.appendChild(percent);\n",
              "\n",
              "    outputElement.appendChild(li);\n",
              "\n",
              "    const fileDataPromise = new Promise((resolve) => {\n",
              "      const reader = new FileReader();\n",
              "      reader.onload = (e) => {\n",
              "        resolve(e.target.result);\n",
              "      };\n",
              "      reader.readAsArrayBuffer(file);\n",
              "    });\n",
              "    // Wait for the data to be ready.\n",
              "    let fileData = yield {\n",
              "      promise: fileDataPromise,\n",
              "      response: {\n",
              "        action: 'continue',\n",
              "      }\n",
              "    };\n",
              "\n",
              "    // Use a chunked sending to avoid message size limits. See b/62115660.\n",
              "    let position = 0;\n",
              "    do {\n",
              "      const length = Math.min(fileData.byteLength - position, MAX_PAYLOAD_SIZE);\n",
              "      const chunk = new Uint8Array(fileData, position, length);\n",
              "      position += length;\n",
              "\n",
              "      const base64 = btoa(String.fromCharCode.apply(null, chunk));\n",
              "      yield {\n",
              "        response: {\n",
              "          action: 'append',\n",
              "          file: file.name,\n",
              "          data: base64,\n",
              "        },\n",
              "      };\n",
              "\n",
              "      let percentDone = fileData.byteLength === 0 ?\n",
              "          100 :\n",
              "          Math.round((position / fileData.byteLength) * 100);\n",
              "      percent.textContent = `${percentDone}% done`;\n",
              "\n",
              "    } while (position < fileData.byteLength);\n",
              "  }\n",
              "\n",
              "  // All done.\n",
              "  yield {\n",
              "    response: {\n",
              "      action: 'complete',\n",
              "    }\n",
              "  };\n",
              "}\n",
              "\n",
              "scope.google = scope.google || {};\n",
              "scope.google.colab = scope.google.colab || {};\n",
              "scope.google.colab._files = {\n",
              "  _uploadFiles,\n",
              "  _uploadFilesContinue,\n",
              "};\n",
              "})(self);\n",
              "</script> "
            ]
          },
          "metadata": {}
        },
        {
          "output_type": "stream",
          "name": "stdout",
          "text": [
            "Saving BRAIN_TUMOR_YES_IMAGES.zip to BRAIN_TUMOR_YES_IMAGES.zip\n"
          ]
        }
      ]
    },
    {
      "cell_type": "code",
      "source": [
        "import zipfile\n",
        "import os\n",
        "\n",
        "# Define the name of the uploaded ZIP file\n",
        "zip_file_name = 'BRAIN_TUMOR_YES_IMAGES.zip'\n",
        "\n",
        "# Define target directory inside extracted_files\n",
        "target_dir = 'extracted_files/BRAIN_TUMOR_YES'\n",
        "\n",
        "# Create the new folder if it doesn't exist\n",
        "os.makedirs(target_dir, exist_ok=True)\n",
        "\n",
        "# Extract the ZIP file into the new folder\n",
        "with zipfile.ZipFile(zip_file_name, 'r') as zip_ref:\n",
        "    zip_ref.extractall(target_dir)\n",
        "\n",
        "print(f\"Files extracted to: {target_dir}/\")"
      ],
      "metadata": {
        "colab": {
          "base_uri": "https://localhost:8080/"
        },
        "id": "mjzUWCFNJDIV",
        "outputId": "e4bb5e62-e463-44de-df9d-824b725449e9"
      },
      "execution_count": null,
      "outputs": [
        {
          "output_type": "stream",
          "name": "stdout",
          "text": [
            "Files extracted to: extracted_files/BRAIN_TUMOR_YES/\n"
          ]
        }
      ]
    },
    {
      "cell_type": "code",
      "source": [
        "from google.colab import files\n",
        "\n",
        "# Upload the ZIP file\n",
        "uploaded = files.upload()"
      ],
      "metadata": {
        "colab": {
          "base_uri": "https://localhost:8080/",
          "height": 73
        },
        "id": "81xHJ4OnITY4",
        "outputId": "8ac60dc3-fa03-4b9a-c019-bea20e9bd015"
      },
      "execution_count": null,
      "outputs": [
        {
          "output_type": "display_data",
          "data": {
            "text/plain": [
              "<IPython.core.display.HTML object>"
            ],
            "text/html": [
              "\n",
              "     <input type=\"file\" id=\"files-28f4f25e-c8b3-478a-9140-782deef8908d\" name=\"files[]\" multiple disabled\n",
              "        style=\"border:none\" />\n",
              "     <output id=\"result-28f4f25e-c8b3-478a-9140-782deef8908d\">\n",
              "      Upload widget is only available when the cell has been executed in the\n",
              "      current browser session. Please rerun this cell to enable.\n",
              "      </output>\n",
              "      <script>// Copyright 2017 Google LLC\n",
              "//\n",
              "// Licensed under the Apache License, Version 2.0 (the \"License\");\n",
              "// you may not use this file except in compliance with the License.\n",
              "// You may obtain a copy of the License at\n",
              "//\n",
              "//      http://www.apache.org/licenses/LICENSE-2.0\n",
              "//\n",
              "// Unless required by applicable law or agreed to in writing, software\n",
              "// distributed under the License is distributed on an \"AS IS\" BASIS,\n",
              "// WITHOUT WARRANTIES OR CONDITIONS OF ANY KIND, either express or implied.\n",
              "// See the License for the specific language governing permissions and\n",
              "// limitations under the License.\n",
              "\n",
              "/**\n",
              " * @fileoverview Helpers for google.colab Python module.\n",
              " */\n",
              "(function(scope) {\n",
              "function span(text, styleAttributes = {}) {\n",
              "  const element = document.createElement('span');\n",
              "  element.textContent = text;\n",
              "  for (const key of Object.keys(styleAttributes)) {\n",
              "    element.style[key] = styleAttributes[key];\n",
              "  }\n",
              "  return element;\n",
              "}\n",
              "\n",
              "// Max number of bytes which will be uploaded at a time.\n",
              "const MAX_PAYLOAD_SIZE = 100 * 1024;\n",
              "\n",
              "function _uploadFiles(inputId, outputId) {\n",
              "  const steps = uploadFilesStep(inputId, outputId);\n",
              "  const outputElement = document.getElementById(outputId);\n",
              "  // Cache steps on the outputElement to make it available for the next call\n",
              "  // to uploadFilesContinue from Python.\n",
              "  outputElement.steps = steps;\n",
              "\n",
              "  return _uploadFilesContinue(outputId);\n",
              "}\n",
              "\n",
              "// This is roughly an async generator (not supported in the browser yet),\n",
              "// where there are multiple asynchronous steps and the Python side is going\n",
              "// to poll for completion of each step.\n",
              "// This uses a Promise to block the python side on completion of each step,\n",
              "// then passes the result of the previous step as the input to the next step.\n",
              "function _uploadFilesContinue(outputId) {\n",
              "  const outputElement = document.getElementById(outputId);\n",
              "  const steps = outputElement.steps;\n",
              "\n",
              "  const next = steps.next(outputElement.lastPromiseValue);\n",
              "  return Promise.resolve(next.value.promise).then((value) => {\n",
              "    // Cache the last promise value to make it available to the next\n",
              "    // step of the generator.\n",
              "    outputElement.lastPromiseValue = value;\n",
              "    return next.value.response;\n",
              "  });\n",
              "}\n",
              "\n",
              "/**\n",
              " * Generator function which is called between each async step of the upload\n",
              " * process.\n",
              " * @param {string} inputId Element ID of the input file picker element.\n",
              " * @param {string} outputId Element ID of the output display.\n",
              " * @return {!Iterable<!Object>} Iterable of next steps.\n",
              " */\n",
              "function* uploadFilesStep(inputId, outputId) {\n",
              "  const inputElement = document.getElementById(inputId);\n",
              "  inputElement.disabled = false;\n",
              "\n",
              "  const outputElement = document.getElementById(outputId);\n",
              "  outputElement.innerHTML = '';\n",
              "\n",
              "  const pickedPromise = new Promise((resolve) => {\n",
              "    inputElement.addEventListener('change', (e) => {\n",
              "      resolve(e.target.files);\n",
              "    });\n",
              "  });\n",
              "\n",
              "  const cancel = document.createElement('button');\n",
              "  inputElement.parentElement.appendChild(cancel);\n",
              "  cancel.textContent = 'Cancel upload';\n",
              "  const cancelPromise = new Promise((resolve) => {\n",
              "    cancel.onclick = () => {\n",
              "      resolve(null);\n",
              "    };\n",
              "  });\n",
              "\n",
              "  // Wait for the user to pick the files.\n",
              "  const files = yield {\n",
              "    promise: Promise.race([pickedPromise, cancelPromise]),\n",
              "    response: {\n",
              "      action: 'starting',\n",
              "    }\n",
              "  };\n",
              "\n",
              "  cancel.remove();\n",
              "\n",
              "  // Disable the input element since further picks are not allowed.\n",
              "  inputElement.disabled = true;\n",
              "\n",
              "  if (!files) {\n",
              "    return {\n",
              "      response: {\n",
              "        action: 'complete',\n",
              "      }\n",
              "    };\n",
              "  }\n",
              "\n",
              "  for (const file of files) {\n",
              "    const li = document.createElement('li');\n",
              "    li.append(span(file.name, {fontWeight: 'bold'}));\n",
              "    li.append(span(\n",
              "        `(${file.type || 'n/a'}) - ${file.size} bytes, ` +\n",
              "        `last modified: ${\n",
              "            file.lastModifiedDate ? file.lastModifiedDate.toLocaleDateString() :\n",
              "                                    'n/a'} - `));\n",
              "    const percent = span('0% done');\n",
              "    li.appendChild(percent);\n",
              "\n",
              "    outputElement.appendChild(li);\n",
              "\n",
              "    const fileDataPromise = new Promise((resolve) => {\n",
              "      const reader = new FileReader();\n",
              "      reader.onload = (e) => {\n",
              "        resolve(e.target.result);\n",
              "      };\n",
              "      reader.readAsArrayBuffer(file);\n",
              "    });\n",
              "    // Wait for the data to be ready.\n",
              "    let fileData = yield {\n",
              "      promise: fileDataPromise,\n",
              "      response: {\n",
              "        action: 'continue',\n",
              "      }\n",
              "    };\n",
              "\n",
              "    // Use a chunked sending to avoid message size limits. See b/62115660.\n",
              "    let position = 0;\n",
              "    do {\n",
              "      const length = Math.min(fileData.byteLength - position, MAX_PAYLOAD_SIZE);\n",
              "      const chunk = new Uint8Array(fileData, position, length);\n",
              "      position += length;\n",
              "\n",
              "      const base64 = btoa(String.fromCharCode.apply(null, chunk));\n",
              "      yield {\n",
              "        response: {\n",
              "          action: 'append',\n",
              "          file: file.name,\n",
              "          data: base64,\n",
              "        },\n",
              "      };\n",
              "\n",
              "      let percentDone = fileData.byteLength === 0 ?\n",
              "          100 :\n",
              "          Math.round((position / fileData.byteLength) * 100);\n",
              "      percent.textContent = `${percentDone}% done`;\n",
              "\n",
              "    } while (position < fileData.byteLength);\n",
              "  }\n",
              "\n",
              "  // All done.\n",
              "  yield {\n",
              "    response: {\n",
              "      action: 'complete',\n",
              "    }\n",
              "  };\n",
              "}\n",
              "\n",
              "scope.google = scope.google || {};\n",
              "scope.google.colab = scope.google.colab || {};\n",
              "scope.google.colab._files = {\n",
              "  _uploadFiles,\n",
              "  _uploadFilesContinue,\n",
              "};\n",
              "})(self);\n",
              "</script> "
            ]
          },
          "metadata": {}
        },
        {
          "output_type": "stream",
          "name": "stdout",
          "text": [
            "Saving BRAIN_TUMOR_NO_IMAGES.zip to BRAIN_TUMOR_NO_IMAGES.zip\n"
          ]
        }
      ]
    },
    {
      "cell_type": "code",
      "source": [
        "import zipfile\n",
        "import os\n",
        "\n",
        "# Define the name of the uploaded ZIP file\n",
        "zip_file_name = 'BRAIN_TUMOR_NO_IMAGES.zip'\n",
        "\n",
        "# Define target directory inside extracted_files\n",
        "target_dir = 'extracted_files/BRAIN_TUMOR_NO'\n",
        "\n",
        "# Create the new folder if it doesn't exist\n",
        "os.makedirs(target_dir, exist_ok=True)\n",
        "\n",
        "# Extract the ZIP file into the new folder\n",
        "with zipfile.ZipFile(zip_file_name, 'r') as zip_ref:\n",
        "    zip_ref.extractall(target_dir)\n",
        "\n",
        "print(f\"Files extracted to: {target_dir}/\")"
      ],
      "metadata": {
        "colab": {
          "base_uri": "https://localhost:8080/"
        },
        "id": "fjflqlywJNSS",
        "outputId": "d880e246-49ea-49f2-9ff9-d4c696f99495"
      },
      "execution_count": null,
      "outputs": [
        {
          "output_type": "stream",
          "name": "stdout",
          "text": [
            "Files extracted to: extracted_files/BRAIN_TUMOR_NO/\n"
          ]
        }
      ]
    },
    {
      "cell_type": "code",
      "source": [
        "import os\n",
        "import shutil\n",
        "\n",
        "# List all YES folders\n",
        "yes_folders = [\n",
        "    'extracted_files/BRAIN_TUMOR_YES',\n",
        "\n",
        "    'extracted_files/yes'\n",
        "]\n",
        "\n",
        "# List all NO folders\n",
        "no_folders = [\n",
        "    'extracted_files/BRAIN_TUMOR_NO',\n",
        "\n",
        "    'extracted_files/no'\n",
        "]\n",
        "\n",
        "# Target folders\n",
        "combined_yes = 'combined/yes'\n",
        "combined_no = 'combined/no'\n",
        "os.makedirs(combined_yes, exist_ok=True)\n",
        "os.makedirs(combined_no, exist_ok=True)\n",
        "\n",
        "# Copy YES images\n",
        "for folder in yes_folders:\n",
        "    if os.path.exists(folder):\n",
        "        for file in os.listdir(folder):\n",
        "            src = os.path.join(folder, file)\n",
        "            dst = os.path.join(combined_yes, file)\n",
        "            if os.path.isfile(src):\n",
        "                shutil.copy2(src, dst)\n",
        "\n",
        "# Copy NO images\n",
        "for folder in no_folders:\n",
        "    if os.path.exists(folder):\n",
        "        for file in os.listdir(folder):\n",
        "            src = os.path.join(folder, file)\n",
        "            dst = os.path.join(combined_no, file)\n",
        "            if os.path.isfile(src):\n",
        "                shutil.copy2(src, dst)\n",
        "\n",
        "print(\"✅ All YES and NO images are now in 'combined/yes' and 'combined/no'\")"
      ],
      "metadata": {
        "colab": {
          "base_uri": "https://localhost:8080/"
        },
        "id": "rhAbCv_QDiMg",
        "outputId": "f5d534b0-382e-45cd-e678-11a5b76378eb"
      },
      "execution_count": null,
      "outputs": [
        {
          "output_type": "stream",
          "name": "stdout",
          "text": [
            "✅ All YES and NO images are now in 'combined/yes' and 'combined/no'\n"
          ]
        }
      ]
    },
    {
      "cell_type": "code",
      "source": [
        "# Install necessary libraries\n",
        "!pip install tensorflow\n"
      ],
      "metadata": {
        "colab": {
          "base_uri": "https://localhost:8080/"
        },
        "id": "hwQBRp8sDkIB",
        "outputId": "eadccdf8-d3dc-4407-a766-018f9678d11b"
      },
      "execution_count": null,
      "outputs": [
        {
          "output_type": "stream",
          "name": "stdout",
          "text": [
            "Requirement already satisfied: tensorflow in /usr/local/lib/python3.11/dist-packages (2.18.0)\n",
            "Requirement already satisfied: absl-py>=1.0.0 in /usr/local/lib/python3.11/dist-packages (from tensorflow) (1.4.0)\n",
            "Requirement already satisfied: astunparse>=1.6.0 in /usr/local/lib/python3.11/dist-packages (from tensorflow) (1.6.3)\n",
            "Requirement already satisfied: flatbuffers>=24.3.25 in /usr/local/lib/python3.11/dist-packages (from tensorflow) (25.2.10)\n",
            "Requirement already satisfied: gast!=0.5.0,!=0.5.1,!=0.5.2,>=0.2.1 in /usr/local/lib/python3.11/dist-packages (from tensorflow) (0.6.0)\n",
            "Requirement already satisfied: google-pasta>=0.1.1 in /usr/local/lib/python3.11/dist-packages (from tensorflow) (0.2.0)\n",
            "Requirement already satisfied: libclang>=13.0.0 in /usr/local/lib/python3.11/dist-packages (from tensorflow) (18.1.1)\n",
            "Requirement already satisfied: opt-einsum>=2.3.2 in /usr/local/lib/python3.11/dist-packages (from tensorflow) (3.4.0)\n",
            "Requirement already satisfied: packaging in /usr/local/lib/python3.11/dist-packages (from tensorflow) (24.2)\n",
            "Requirement already satisfied: protobuf!=4.21.0,!=4.21.1,!=4.21.2,!=4.21.3,!=4.21.4,!=4.21.5,<6.0.0dev,>=3.20.3 in /usr/local/lib/python3.11/dist-packages (from tensorflow) (5.29.4)\n",
            "Requirement already satisfied: requests<3,>=2.21.0 in /usr/local/lib/python3.11/dist-packages (from tensorflow) (2.32.3)\n",
            "Requirement already satisfied: setuptools in /usr/local/lib/python3.11/dist-packages (from tensorflow) (75.2.0)\n",
            "Requirement already satisfied: six>=1.12.0 in /usr/local/lib/python3.11/dist-packages (from tensorflow) (1.17.0)\n",
            "Requirement already satisfied: termcolor>=1.1.0 in /usr/local/lib/python3.11/dist-packages (from tensorflow) (3.0.1)\n",
            "Requirement already satisfied: typing-extensions>=3.6.6 in /usr/local/lib/python3.11/dist-packages (from tensorflow) (4.13.2)\n",
            "Requirement already satisfied: wrapt>=1.11.0 in /usr/local/lib/python3.11/dist-packages (from tensorflow) (1.17.2)\n",
            "Requirement already satisfied: grpcio<2.0,>=1.24.3 in /usr/local/lib/python3.11/dist-packages (from tensorflow) (1.71.0)\n",
            "Requirement already satisfied: tensorboard<2.19,>=2.18 in /usr/local/lib/python3.11/dist-packages (from tensorflow) (2.18.0)\n",
            "Requirement already satisfied: keras>=3.5.0 in /usr/local/lib/python3.11/dist-packages (from tensorflow) (3.8.0)\n",
            "Requirement already satisfied: numpy<2.1.0,>=1.26.0 in /usr/local/lib/python3.11/dist-packages (from tensorflow) (2.0.2)\n",
            "Requirement already satisfied: h5py>=3.11.0 in /usr/local/lib/python3.11/dist-packages (from tensorflow) (3.13.0)\n",
            "Requirement already satisfied: ml-dtypes<0.5.0,>=0.4.0 in /usr/local/lib/python3.11/dist-packages (from tensorflow) (0.4.1)\n",
            "Requirement already satisfied: tensorflow-io-gcs-filesystem>=0.23.1 in /usr/local/lib/python3.11/dist-packages (from tensorflow) (0.37.1)\n",
            "Requirement already satisfied: wheel<1.0,>=0.23.0 in /usr/local/lib/python3.11/dist-packages (from astunparse>=1.6.0->tensorflow) (0.45.1)\n",
            "Requirement already satisfied: rich in /usr/local/lib/python3.11/dist-packages (from keras>=3.5.0->tensorflow) (13.9.4)\n",
            "Requirement already satisfied: namex in /usr/local/lib/python3.11/dist-packages (from keras>=3.5.0->tensorflow) (0.0.9)\n",
            "Requirement already satisfied: optree in /usr/local/lib/python3.11/dist-packages (from keras>=3.5.0->tensorflow) (0.15.0)\n",
            "Requirement already satisfied: charset-normalizer<4,>=2 in /usr/local/lib/python3.11/dist-packages (from requests<3,>=2.21.0->tensorflow) (3.4.1)\n",
            "Requirement already satisfied: idna<4,>=2.5 in /usr/local/lib/python3.11/dist-packages (from requests<3,>=2.21.0->tensorflow) (3.10)\n",
            "Requirement already satisfied: urllib3<3,>=1.21.1 in /usr/local/lib/python3.11/dist-packages (from requests<3,>=2.21.0->tensorflow) (2.4.0)\n",
            "Requirement already satisfied: certifi>=2017.4.17 in /usr/local/lib/python3.11/dist-packages (from requests<3,>=2.21.0->tensorflow) (2025.4.26)\n",
            "Requirement already satisfied: markdown>=2.6.8 in /usr/local/lib/python3.11/dist-packages (from tensorboard<2.19,>=2.18->tensorflow) (3.8)\n",
            "Requirement already satisfied: tensorboard-data-server<0.8.0,>=0.7.0 in /usr/local/lib/python3.11/dist-packages (from tensorboard<2.19,>=2.18->tensorflow) (0.7.2)\n",
            "Requirement already satisfied: werkzeug>=1.0.1 in /usr/local/lib/python3.11/dist-packages (from tensorboard<2.19,>=2.18->tensorflow) (3.1.3)\n",
            "Requirement already satisfied: MarkupSafe>=2.1.1 in /usr/local/lib/python3.11/dist-packages (from werkzeug>=1.0.1->tensorboard<2.19,>=2.18->tensorflow) (3.0.2)\n",
            "Requirement already satisfied: markdown-it-py>=2.2.0 in /usr/local/lib/python3.11/dist-packages (from rich->keras>=3.5.0->tensorflow) (3.0.0)\n",
            "Requirement already satisfied: pygments<3.0.0,>=2.13.0 in /usr/local/lib/python3.11/dist-packages (from rich->keras>=3.5.0->tensorflow) (2.19.1)\n",
            "Requirement already satisfied: mdurl~=0.1 in /usr/local/lib/python3.11/dist-packages (from markdown-it-py>=2.2.0->rich->keras>=3.5.0->tensorflow) (0.1.2)\n"
          ]
        }
      ]
    },
    {
      "cell_type": "code",
      "source": [
        "import tensorflow as tf\n",
        "from tensorflow.keras import layers, models\n",
        "from tensorflow.keras.preprocessing.image import ImageDataGenerator\n",
        "import matplotlib.pyplot as plt\n"
      ],
      "metadata": {
        "id": "NvCdav0oDmn5"
      },
      "execution_count": null,
      "outputs": []
    },
    {
      "cell_type": "code",
      "source": [
        "from tensorflow.keras.preprocessing.image import ImageDataGenerator\n",
        "\n",
        "# Paths to your dataset folders\n",
        "train_dir = '/content/combined/'\n",
        "\n",
        "# Data augmentation and rescaling for training and validation\n",
        "train_datagen = ImageDataGenerator(\n",
        "    rescale=1./255,\n",
        "    rotation_range=40,\n",
        "    width_shift_range=0.2,\n",
        "    height_shift_range=0.2,\n",
        "    shear_range=0.2,\n",
        "    zoom_range=0.2,\n",
        "    horizontal_flip=True,\n",
        "    fill_mode='nearest',\n",
        "    validation_split=0.2  # 20% of the data will be used for validation\n",
        ")\n",
        "\n",
        "test_datagen = ImageDataGenerator(rescale=1./255)\n",
        "\n",
        "# Training data generator\n",
        "train_generator = train_datagen.flow_from_directory(\n",
        "    train_dir,\n",
        "    target_size=(150, 150),\n",
        "    batch_size=32,\n",
        "    class_mode='binary',\n",
        "    subset='training'  # Use this subset for training\n",
        ")\n",
        "\n",
        "# Validation data generator\n",
        "validation_generator = train_datagen.flow_from_directory(\n",
        "    train_dir,\n",
        "    target_size=(150, 150),\n",
        "    batch_size=32,\n",
        "    class_mode='binary',\n",
        "    subset='validation'  # Use this subset for validation\n",
        ")\n",
        "\n",
        "# Check the output to ensure that both training and validation data are loaded correctly\n",
        "print(f\"Training samples: {train_generator.samples}\")\n",
        "print(f\"Validation samples: {validation_generator.samples}\")\n"
      ],
      "metadata": {
        "id": "wX5rwYS4DpDQ",
        "colab": {
          "base_uri": "https://localhost:8080/"
        },
        "outputId": "a4224caf-640e-44be-dfae-9c2fe01eff4b"
      },
      "execution_count": null,
      "outputs": [
        {
          "output_type": "stream",
          "name": "stdout",
          "text": [
            "Found 2603 images belonging to 2 classes.\n",
            "Found 650 images belonging to 2 classes.\n",
            "Training samples: 2603\n",
            "Validation samples: 650\n"
          ]
        }
      ]
    },
    {
      "cell_type": "markdown",
      "source": [
        "CNN MODEL"
      ],
      "metadata": {
        "id": "gCdl87PEOL-O"
      }
    },
    {
      "cell_type": "code",
      "source": [
        "def create_cnn_model():\n",
        "    model = models.Sequential([\n",
        "        layers.Conv2D(32, (3, 3), activation='relu', input_shape=(150, 150, 3)),\n",
        "        layers.MaxPooling2D((2, 2)),\n",
        "\n",
        "        layers.Conv2D(64, (3, 3), activation='relu'),\n",
        "        layers.MaxPooling2D((2, 2)),\n",
        "\n",
        "        layers.Conv2D(128, (3, 3), activation='relu'),\n",
        "        layers.MaxPooling2D((2, 2)),\n",
        "\n",
        "        layers.Flatten(),\n",
        "        layers.Dense(512, activation='relu'),\n",
        "        layers.Dense(1, activation='sigmoid')  # For binary classification (yes/no)\n",
        "    ])\n",
        "\n",
        "    model.compile(loss='binary_crossentropy',\n",
        "                  optimizer='adam',\n",
        "                  metrics=['accuracy'])\n",
        "\n",
        "    return model\n",
        "\n",
        "cnn_model = create_cnn_model()\n",
        "cnn_model.summary()"
      ],
      "metadata": {
        "colab": {
          "base_uri": "https://localhost:8080/",
          "height": 417
        },
        "id": "WhOsu0Y7Dq-H",
        "outputId": "4db9d7cb-0796-41be-80ce-d4dd7ec21633"
      },
      "execution_count": null,
      "outputs": [
        {
          "output_type": "display_data",
          "data": {
            "text/plain": [
              "\u001b[1mModel: \"sequential_3\"\u001b[0m\n"
            ],
            "text/html": [
              "<pre style=\"white-space:pre;overflow-x:auto;line-height:normal;font-family:Menlo,'DejaVu Sans Mono',consolas,'Courier New',monospace\"><span style=\"font-weight: bold\">Model: \"sequential_3\"</span>\n",
              "</pre>\n"
            ]
          },
          "metadata": {}
        },
        {
          "output_type": "display_data",
          "data": {
            "text/plain": [
              "┏━━━━━━━━━━━━━━━━━━━━━━━━━━━━━━━━━┳━━━━━━━━━━━━━━━━━━━━━━━━┳━━━━━━━━━━━━━━━┓\n",
              "┃\u001b[1m \u001b[0m\u001b[1mLayer (type)                   \u001b[0m\u001b[1m \u001b[0m┃\u001b[1m \u001b[0m\u001b[1mOutput Shape          \u001b[0m\u001b[1m \u001b[0m┃\u001b[1m \u001b[0m\u001b[1m      Param #\u001b[0m\u001b[1m \u001b[0m┃\n",
              "┡━━━━━━━━━━━━━━━━━━━━━━━━━━━━━━━━━╇━━━━━━━━━━━━━━━━━━━━━━━━╇━━━━━━━━━━━━━━━┩\n",
              "│ conv2d_3 (\u001b[38;5;33mConv2D\u001b[0m)               │ (\u001b[38;5;45mNone\u001b[0m, \u001b[38;5;34m148\u001b[0m, \u001b[38;5;34m148\u001b[0m, \u001b[38;5;34m32\u001b[0m)   │           \u001b[38;5;34m896\u001b[0m │\n",
              "├─────────────────────────────────┼────────────────────────┼───────────────┤\n",
              "│ max_pooling2d_3 (\u001b[38;5;33mMaxPooling2D\u001b[0m)  │ (\u001b[38;5;45mNone\u001b[0m, \u001b[38;5;34m74\u001b[0m, \u001b[38;5;34m74\u001b[0m, \u001b[38;5;34m32\u001b[0m)     │             \u001b[38;5;34m0\u001b[0m │\n",
              "├─────────────────────────────────┼────────────────────────┼───────────────┤\n",
              "│ conv2d_4 (\u001b[38;5;33mConv2D\u001b[0m)               │ (\u001b[38;5;45mNone\u001b[0m, \u001b[38;5;34m72\u001b[0m, \u001b[38;5;34m72\u001b[0m, \u001b[38;5;34m64\u001b[0m)     │        \u001b[38;5;34m18,496\u001b[0m │\n",
              "├─────────────────────────────────┼────────────────────────┼───────────────┤\n",
              "│ max_pooling2d_4 (\u001b[38;5;33mMaxPooling2D\u001b[0m)  │ (\u001b[38;5;45mNone\u001b[0m, \u001b[38;5;34m36\u001b[0m, \u001b[38;5;34m36\u001b[0m, \u001b[38;5;34m64\u001b[0m)     │             \u001b[38;5;34m0\u001b[0m │\n",
              "├─────────────────────────────────┼────────────────────────┼───────────────┤\n",
              "│ conv2d_5 (\u001b[38;5;33mConv2D\u001b[0m)               │ (\u001b[38;5;45mNone\u001b[0m, \u001b[38;5;34m34\u001b[0m, \u001b[38;5;34m34\u001b[0m, \u001b[38;5;34m128\u001b[0m)    │        \u001b[38;5;34m73,856\u001b[0m │\n",
              "├─────────────────────────────────┼────────────────────────┼───────────────┤\n",
              "│ max_pooling2d_5 (\u001b[38;5;33mMaxPooling2D\u001b[0m)  │ (\u001b[38;5;45mNone\u001b[0m, \u001b[38;5;34m17\u001b[0m, \u001b[38;5;34m17\u001b[0m, \u001b[38;5;34m128\u001b[0m)    │             \u001b[38;5;34m0\u001b[0m │\n",
              "├─────────────────────────────────┼────────────────────────┼───────────────┤\n",
              "│ flatten_3 (\u001b[38;5;33mFlatten\u001b[0m)             │ (\u001b[38;5;45mNone\u001b[0m, \u001b[38;5;34m36992\u001b[0m)          │             \u001b[38;5;34m0\u001b[0m │\n",
              "├─────────────────────────────────┼────────────────────────┼───────────────┤\n",
              "│ dense_9 (\u001b[38;5;33mDense\u001b[0m)                 │ (\u001b[38;5;45mNone\u001b[0m, \u001b[38;5;34m512\u001b[0m)            │    \u001b[38;5;34m18,940,416\u001b[0m │\n",
              "├─────────────────────────────────┼────────────────────────┼───────────────┤\n",
              "│ dense_10 (\u001b[38;5;33mDense\u001b[0m)                │ (\u001b[38;5;45mNone\u001b[0m, \u001b[38;5;34m1\u001b[0m)              │           \u001b[38;5;34m513\u001b[0m │\n",
              "└─────────────────────────────────┴────────────────────────┴───────────────┘\n"
            ],
            "text/html": [
              "<pre style=\"white-space:pre;overflow-x:auto;line-height:normal;font-family:Menlo,'DejaVu Sans Mono',consolas,'Courier New',monospace\">┏━━━━━━━━━━━━━━━━━━━━━━━━━━━━━━━━━┳━━━━━━━━━━━━━━━━━━━━━━━━┳━━━━━━━━━━━━━━━┓\n",
              "┃<span style=\"font-weight: bold\"> Layer (type)                    </span>┃<span style=\"font-weight: bold\"> Output Shape           </span>┃<span style=\"font-weight: bold\">       Param # </span>┃\n",
              "┡━━━━━━━━━━━━━━━━━━━━━━━━━━━━━━━━━╇━━━━━━━━━━━━━━━━━━━━━━━━╇━━━━━━━━━━━━━━━┩\n",
              "│ conv2d_3 (<span style=\"color: #0087ff; text-decoration-color: #0087ff\">Conv2D</span>)               │ (<span style=\"color: #00d7ff; text-decoration-color: #00d7ff\">None</span>, <span style=\"color: #00af00; text-decoration-color: #00af00\">148</span>, <span style=\"color: #00af00; text-decoration-color: #00af00\">148</span>, <span style=\"color: #00af00; text-decoration-color: #00af00\">32</span>)   │           <span style=\"color: #00af00; text-decoration-color: #00af00\">896</span> │\n",
              "├─────────────────────────────────┼────────────────────────┼───────────────┤\n",
              "│ max_pooling2d_3 (<span style=\"color: #0087ff; text-decoration-color: #0087ff\">MaxPooling2D</span>)  │ (<span style=\"color: #00d7ff; text-decoration-color: #00d7ff\">None</span>, <span style=\"color: #00af00; text-decoration-color: #00af00\">74</span>, <span style=\"color: #00af00; text-decoration-color: #00af00\">74</span>, <span style=\"color: #00af00; text-decoration-color: #00af00\">32</span>)     │             <span style=\"color: #00af00; text-decoration-color: #00af00\">0</span> │\n",
              "├─────────────────────────────────┼────────────────────────┼───────────────┤\n",
              "│ conv2d_4 (<span style=\"color: #0087ff; text-decoration-color: #0087ff\">Conv2D</span>)               │ (<span style=\"color: #00d7ff; text-decoration-color: #00d7ff\">None</span>, <span style=\"color: #00af00; text-decoration-color: #00af00\">72</span>, <span style=\"color: #00af00; text-decoration-color: #00af00\">72</span>, <span style=\"color: #00af00; text-decoration-color: #00af00\">64</span>)     │        <span style=\"color: #00af00; text-decoration-color: #00af00\">18,496</span> │\n",
              "├─────────────────────────────────┼────────────────────────┼───────────────┤\n",
              "│ max_pooling2d_4 (<span style=\"color: #0087ff; text-decoration-color: #0087ff\">MaxPooling2D</span>)  │ (<span style=\"color: #00d7ff; text-decoration-color: #00d7ff\">None</span>, <span style=\"color: #00af00; text-decoration-color: #00af00\">36</span>, <span style=\"color: #00af00; text-decoration-color: #00af00\">36</span>, <span style=\"color: #00af00; text-decoration-color: #00af00\">64</span>)     │             <span style=\"color: #00af00; text-decoration-color: #00af00\">0</span> │\n",
              "├─────────────────────────────────┼────────────────────────┼───────────────┤\n",
              "│ conv2d_5 (<span style=\"color: #0087ff; text-decoration-color: #0087ff\">Conv2D</span>)               │ (<span style=\"color: #00d7ff; text-decoration-color: #00d7ff\">None</span>, <span style=\"color: #00af00; text-decoration-color: #00af00\">34</span>, <span style=\"color: #00af00; text-decoration-color: #00af00\">34</span>, <span style=\"color: #00af00; text-decoration-color: #00af00\">128</span>)    │        <span style=\"color: #00af00; text-decoration-color: #00af00\">73,856</span> │\n",
              "├─────────────────────────────────┼────────────────────────┼───────────────┤\n",
              "│ max_pooling2d_5 (<span style=\"color: #0087ff; text-decoration-color: #0087ff\">MaxPooling2D</span>)  │ (<span style=\"color: #00d7ff; text-decoration-color: #00d7ff\">None</span>, <span style=\"color: #00af00; text-decoration-color: #00af00\">17</span>, <span style=\"color: #00af00; text-decoration-color: #00af00\">17</span>, <span style=\"color: #00af00; text-decoration-color: #00af00\">128</span>)    │             <span style=\"color: #00af00; text-decoration-color: #00af00\">0</span> │\n",
              "├─────────────────────────────────┼────────────────────────┼───────────────┤\n",
              "│ flatten_3 (<span style=\"color: #0087ff; text-decoration-color: #0087ff\">Flatten</span>)             │ (<span style=\"color: #00d7ff; text-decoration-color: #00d7ff\">None</span>, <span style=\"color: #00af00; text-decoration-color: #00af00\">36992</span>)          │             <span style=\"color: #00af00; text-decoration-color: #00af00\">0</span> │\n",
              "├─────────────────────────────────┼────────────────────────┼───────────────┤\n",
              "│ dense_9 (<span style=\"color: #0087ff; text-decoration-color: #0087ff\">Dense</span>)                 │ (<span style=\"color: #00d7ff; text-decoration-color: #00d7ff\">None</span>, <span style=\"color: #00af00; text-decoration-color: #00af00\">512</span>)            │    <span style=\"color: #00af00; text-decoration-color: #00af00\">18,940,416</span> │\n",
              "├─────────────────────────────────┼────────────────────────┼───────────────┤\n",
              "│ dense_10 (<span style=\"color: #0087ff; text-decoration-color: #0087ff\">Dense</span>)                │ (<span style=\"color: #00d7ff; text-decoration-color: #00d7ff\">None</span>, <span style=\"color: #00af00; text-decoration-color: #00af00\">1</span>)              │           <span style=\"color: #00af00; text-decoration-color: #00af00\">513</span> │\n",
              "└─────────────────────────────────┴────────────────────────┴───────────────┘\n",
              "</pre>\n"
            ]
          },
          "metadata": {}
        },
        {
          "output_type": "display_data",
          "data": {
            "text/plain": [
              "\u001b[1m Total params: \u001b[0m\u001b[38;5;34m19,034,177\u001b[0m (72.61 MB)\n"
            ],
            "text/html": [
              "<pre style=\"white-space:pre;overflow-x:auto;line-height:normal;font-family:Menlo,'DejaVu Sans Mono',consolas,'Courier New',monospace\"><span style=\"font-weight: bold\"> Total params: </span><span style=\"color: #00af00; text-decoration-color: #00af00\">19,034,177</span> (72.61 MB)\n",
              "</pre>\n"
            ]
          },
          "metadata": {}
        },
        {
          "output_type": "display_data",
          "data": {
            "text/plain": [
              "\u001b[1m Trainable params: \u001b[0m\u001b[38;5;34m19,034,177\u001b[0m (72.61 MB)\n"
            ],
            "text/html": [
              "<pre style=\"white-space:pre;overflow-x:auto;line-height:normal;font-family:Menlo,'DejaVu Sans Mono',consolas,'Courier New',monospace\"><span style=\"font-weight: bold\"> Trainable params: </span><span style=\"color: #00af00; text-decoration-color: #00af00\">19,034,177</span> (72.61 MB)\n",
              "</pre>\n"
            ]
          },
          "metadata": {}
        },
        {
          "output_type": "display_data",
          "data": {
            "text/plain": [
              "\u001b[1m Non-trainable params: \u001b[0m\u001b[38;5;34m0\u001b[0m (0.00 B)\n"
            ],
            "text/html": [
              "<pre style=\"white-space:pre;overflow-x:auto;line-height:normal;font-family:Menlo,'DejaVu Sans Mono',consolas,'Courier New',monospace\"><span style=\"font-weight: bold\"> Non-trainable params: </span><span style=\"color: #00af00; text-decoration-color: #00af00\">0</span> (0.00 B)\n",
              "</pre>\n"
            ]
          },
          "metadata": {}
        }
      ]
    },
    {
      "cell_type": "markdown",
      "source": [
        "ANN MODEL"
      ],
      "metadata": {
        "id": "USIqXQRYOPa0"
      }
    },
    {
      "cell_type": "code",
      "source": [
        "def create_ann_model():\n",
        "    model = models.Sequential([\n",
        "        layers.Flatten(input_shape=(150, 150, 3)),\n",
        "        layers.Dense(128, activation='relu'),\n",
        "        layers.Dense(64, activation='relu'),\n",
        "        layers.Dense(32, activation='relu'),\n",
        "        layers.Dense(1, activation='sigmoid')  # For binary classification (yes/no)\n",
        "    ])\n",
        "\n",
        "    model.compile(loss='binary_crossentropy',\n",
        "                  optimizer='adam',\n",
        "                  metrics=['accuracy'])\n",
        "\n",
        "    return model\n",
        "\n",
        "ann_model = create_ann_model()\n",
        "ann_model.summary()"
      ],
      "metadata": {
        "id": "KGm9CJQ5Dt6o",
        "colab": {
          "base_uri": "https://localhost:8080/",
          "height": 289
        },
        "outputId": "6e5a33ba-04e2-47aa-9e65-f0868d577df6"
      },
      "execution_count": null,
      "outputs": [
        {
          "output_type": "display_data",
          "data": {
            "text/plain": [
              "\u001b[1mModel: \"sequential_4\"\u001b[0m\n"
            ],
            "text/html": [
              "<pre style=\"white-space:pre;overflow-x:auto;line-height:normal;font-family:Menlo,'DejaVu Sans Mono',consolas,'Courier New',monospace\"><span style=\"font-weight: bold\">Model: \"sequential_4\"</span>\n",
              "</pre>\n"
            ]
          },
          "metadata": {}
        },
        {
          "output_type": "display_data",
          "data": {
            "text/plain": [
              "┏━━━━━━━━━━━━━━━━━━━━━━━━━━━━━━━━━┳━━━━━━━━━━━━━━━━━━━━━━━━┳━━━━━━━━━━━━━━━┓\n",
              "┃\u001b[1m \u001b[0m\u001b[1mLayer (type)                   \u001b[0m\u001b[1m \u001b[0m┃\u001b[1m \u001b[0m\u001b[1mOutput Shape          \u001b[0m\u001b[1m \u001b[0m┃\u001b[1m \u001b[0m\u001b[1m      Param #\u001b[0m\u001b[1m \u001b[0m┃\n",
              "┡━━━━━━━━━━━━━━━━━━━━━━━━━━━━━━━━━╇━━━━━━━━━━━━━━━━━━━━━━━━╇━━━━━━━━━━━━━━━┩\n",
              "│ flatten_4 (\u001b[38;5;33mFlatten\u001b[0m)             │ (\u001b[38;5;45mNone\u001b[0m, \u001b[38;5;34m67500\u001b[0m)          │             \u001b[38;5;34m0\u001b[0m │\n",
              "├─────────────────────────────────┼────────────────────────┼───────────────┤\n",
              "│ dense_11 (\u001b[38;5;33mDense\u001b[0m)                │ (\u001b[38;5;45mNone\u001b[0m, \u001b[38;5;34m128\u001b[0m)            │     \u001b[38;5;34m8,640,128\u001b[0m │\n",
              "├─────────────────────────────────┼────────────────────────┼───────────────┤\n",
              "│ dense_12 (\u001b[38;5;33mDense\u001b[0m)                │ (\u001b[38;5;45mNone\u001b[0m, \u001b[38;5;34m64\u001b[0m)             │         \u001b[38;5;34m8,256\u001b[0m │\n",
              "├─────────────────────────────────┼────────────────────────┼───────────────┤\n",
              "│ dense_13 (\u001b[38;5;33mDense\u001b[0m)                │ (\u001b[38;5;45mNone\u001b[0m, \u001b[38;5;34m32\u001b[0m)             │         \u001b[38;5;34m2,080\u001b[0m │\n",
              "├─────────────────────────────────┼────────────────────────┼───────────────┤\n",
              "│ dense_14 (\u001b[38;5;33mDense\u001b[0m)                │ (\u001b[38;5;45mNone\u001b[0m, \u001b[38;5;34m1\u001b[0m)              │            \u001b[38;5;34m33\u001b[0m │\n",
              "└─────────────────────────────────┴────────────────────────┴───────────────┘\n"
            ],
            "text/html": [
              "<pre style=\"white-space:pre;overflow-x:auto;line-height:normal;font-family:Menlo,'DejaVu Sans Mono',consolas,'Courier New',monospace\">┏━━━━━━━━━━━━━━━━━━━━━━━━━━━━━━━━━┳━━━━━━━━━━━━━━━━━━━━━━━━┳━━━━━━━━━━━━━━━┓\n",
              "┃<span style=\"font-weight: bold\"> Layer (type)                    </span>┃<span style=\"font-weight: bold\"> Output Shape           </span>┃<span style=\"font-weight: bold\">       Param # </span>┃\n",
              "┡━━━━━━━━━━━━━━━━━━━━━━━━━━━━━━━━━╇━━━━━━━━━━━━━━━━━━━━━━━━╇━━━━━━━━━━━━━━━┩\n",
              "│ flatten_4 (<span style=\"color: #0087ff; text-decoration-color: #0087ff\">Flatten</span>)             │ (<span style=\"color: #00d7ff; text-decoration-color: #00d7ff\">None</span>, <span style=\"color: #00af00; text-decoration-color: #00af00\">67500</span>)          │             <span style=\"color: #00af00; text-decoration-color: #00af00\">0</span> │\n",
              "├─────────────────────────────────┼────────────────────────┼───────────────┤\n",
              "│ dense_11 (<span style=\"color: #0087ff; text-decoration-color: #0087ff\">Dense</span>)                │ (<span style=\"color: #00d7ff; text-decoration-color: #00d7ff\">None</span>, <span style=\"color: #00af00; text-decoration-color: #00af00\">128</span>)            │     <span style=\"color: #00af00; text-decoration-color: #00af00\">8,640,128</span> │\n",
              "├─────────────────────────────────┼────────────────────────┼───────────────┤\n",
              "│ dense_12 (<span style=\"color: #0087ff; text-decoration-color: #0087ff\">Dense</span>)                │ (<span style=\"color: #00d7ff; text-decoration-color: #00d7ff\">None</span>, <span style=\"color: #00af00; text-decoration-color: #00af00\">64</span>)             │         <span style=\"color: #00af00; text-decoration-color: #00af00\">8,256</span> │\n",
              "├─────────────────────────────────┼────────────────────────┼───────────────┤\n",
              "│ dense_13 (<span style=\"color: #0087ff; text-decoration-color: #0087ff\">Dense</span>)                │ (<span style=\"color: #00d7ff; text-decoration-color: #00d7ff\">None</span>, <span style=\"color: #00af00; text-decoration-color: #00af00\">32</span>)             │         <span style=\"color: #00af00; text-decoration-color: #00af00\">2,080</span> │\n",
              "├─────────────────────────────────┼────────────────────────┼───────────────┤\n",
              "│ dense_14 (<span style=\"color: #0087ff; text-decoration-color: #0087ff\">Dense</span>)                │ (<span style=\"color: #00d7ff; text-decoration-color: #00d7ff\">None</span>, <span style=\"color: #00af00; text-decoration-color: #00af00\">1</span>)              │            <span style=\"color: #00af00; text-decoration-color: #00af00\">33</span> │\n",
              "└─────────────────────────────────┴────────────────────────┴───────────────┘\n",
              "</pre>\n"
            ]
          },
          "metadata": {}
        },
        {
          "output_type": "display_data",
          "data": {
            "text/plain": [
              "\u001b[1m Total params: \u001b[0m\u001b[38;5;34m8,650,497\u001b[0m (33.00 MB)\n"
            ],
            "text/html": [
              "<pre style=\"white-space:pre;overflow-x:auto;line-height:normal;font-family:Menlo,'DejaVu Sans Mono',consolas,'Courier New',monospace\"><span style=\"font-weight: bold\"> Total params: </span><span style=\"color: #00af00; text-decoration-color: #00af00\">8,650,497</span> (33.00 MB)\n",
              "</pre>\n"
            ]
          },
          "metadata": {}
        },
        {
          "output_type": "display_data",
          "data": {
            "text/plain": [
              "\u001b[1m Trainable params: \u001b[0m\u001b[38;5;34m8,650,497\u001b[0m (33.00 MB)\n"
            ],
            "text/html": [
              "<pre style=\"white-space:pre;overflow-x:auto;line-height:normal;font-family:Menlo,'DejaVu Sans Mono',consolas,'Courier New',monospace\"><span style=\"font-weight: bold\"> Trainable params: </span><span style=\"color: #00af00; text-decoration-color: #00af00\">8,650,497</span> (33.00 MB)\n",
              "</pre>\n"
            ]
          },
          "metadata": {}
        },
        {
          "output_type": "display_data",
          "data": {
            "text/plain": [
              "\u001b[1m Non-trainable params: \u001b[0m\u001b[38;5;34m0\u001b[0m (0.00 B)\n"
            ],
            "text/html": [
              "<pre style=\"white-space:pre;overflow-x:auto;line-height:normal;font-family:Menlo,'DejaVu Sans Mono',consolas,'Courier New',monospace\"><span style=\"font-weight: bold\"> Non-trainable params: </span><span style=\"color: #00af00; text-decoration-color: #00af00\">0</span> (0.00 B)\n",
              "</pre>\n"
            ]
          },
          "metadata": {}
        }
      ]
    },
    {
      "cell_type": "markdown",
      "source": [
        "MLP MODEL"
      ],
      "metadata": {
        "id": "q6ciQ_XeORJM"
      }
    },
    {
      "cell_type": "code",
      "source": [
        "def create_mlp_model():\n",
        "    model = models.Sequential([\n",
        "        layers.Flatten(input_shape=(150, 150, 3)),\n",
        "        layers.Dense(64, activation='relu'),\n",
        "        layers.Dense(32, activation='relu'),\n",
        "        layers.Dense(1, activation='sigmoid')  # For binary classification (yes/no)\n",
        "    ])\n",
        "\n",
        "    model.compile(loss='binary_crossentropy',\n",
        "                  optimizer='adam',\n",
        "                  metrics=['accuracy'])\n",
        "\n",
        "    return model\n",
        "\n",
        "mlp_model = create_mlp_model()\n",
        "mlp_model.summary()"
      ],
      "metadata": {
        "colab": {
          "base_uri": "https://localhost:8080/",
          "height": 257
        },
        "id": "IyEky24ADwHH",
        "outputId": "1031ed79-2525-4fa8-bf85-09b8ba185252"
      },
      "execution_count": null,
      "outputs": [
        {
          "output_type": "display_data",
          "data": {
            "text/plain": [
              "\u001b[1mModel: \"sequential_5\"\u001b[0m\n"
            ],
            "text/html": [
              "<pre style=\"white-space:pre;overflow-x:auto;line-height:normal;font-family:Menlo,'DejaVu Sans Mono',consolas,'Courier New',monospace\"><span style=\"font-weight: bold\">Model: \"sequential_5\"</span>\n",
              "</pre>\n"
            ]
          },
          "metadata": {}
        },
        {
          "output_type": "display_data",
          "data": {
            "text/plain": [
              "┏━━━━━━━━━━━━━━━━━━━━━━━━━━━━━━━━━┳━━━━━━━━━━━━━━━━━━━━━━━━┳━━━━━━━━━━━━━━━┓\n",
              "┃\u001b[1m \u001b[0m\u001b[1mLayer (type)                   \u001b[0m\u001b[1m \u001b[0m┃\u001b[1m \u001b[0m\u001b[1mOutput Shape          \u001b[0m\u001b[1m \u001b[0m┃\u001b[1m \u001b[0m\u001b[1m      Param #\u001b[0m\u001b[1m \u001b[0m┃\n",
              "┡━━━━━━━━━━━━━━━━━━━━━━━━━━━━━━━━━╇━━━━━━━━━━━━━━━━━━━━━━━━╇━━━━━━━━━━━━━━━┩\n",
              "│ flatten_5 (\u001b[38;5;33mFlatten\u001b[0m)             │ (\u001b[38;5;45mNone\u001b[0m, \u001b[38;5;34m67500\u001b[0m)          │             \u001b[38;5;34m0\u001b[0m │\n",
              "├─────────────────────────────────┼────────────────────────┼───────────────┤\n",
              "│ dense_15 (\u001b[38;5;33mDense\u001b[0m)                │ (\u001b[38;5;45mNone\u001b[0m, \u001b[38;5;34m64\u001b[0m)             │     \u001b[38;5;34m4,320,064\u001b[0m │\n",
              "├─────────────────────────────────┼────────────────────────┼───────────────┤\n",
              "│ dense_16 (\u001b[38;5;33mDense\u001b[0m)                │ (\u001b[38;5;45mNone\u001b[0m, \u001b[38;5;34m32\u001b[0m)             │         \u001b[38;5;34m2,080\u001b[0m │\n",
              "├─────────────────────────────────┼────────────────────────┼───────────────┤\n",
              "│ dense_17 (\u001b[38;5;33mDense\u001b[0m)                │ (\u001b[38;5;45mNone\u001b[0m, \u001b[38;5;34m1\u001b[0m)              │            \u001b[38;5;34m33\u001b[0m │\n",
              "└─────────────────────────────────┴────────────────────────┴───────────────┘\n"
            ],
            "text/html": [
              "<pre style=\"white-space:pre;overflow-x:auto;line-height:normal;font-family:Menlo,'DejaVu Sans Mono',consolas,'Courier New',monospace\">┏━━━━━━━━━━━━━━━━━━━━━━━━━━━━━━━━━┳━━━━━━━━━━━━━━━━━━━━━━━━┳━━━━━━━━━━━━━━━┓\n",
              "┃<span style=\"font-weight: bold\"> Layer (type)                    </span>┃<span style=\"font-weight: bold\"> Output Shape           </span>┃<span style=\"font-weight: bold\">       Param # </span>┃\n",
              "┡━━━━━━━━━━━━━━━━━━━━━━━━━━━━━━━━━╇━━━━━━━━━━━━━━━━━━━━━━━━╇━━━━━━━━━━━━━━━┩\n",
              "│ flatten_5 (<span style=\"color: #0087ff; text-decoration-color: #0087ff\">Flatten</span>)             │ (<span style=\"color: #00d7ff; text-decoration-color: #00d7ff\">None</span>, <span style=\"color: #00af00; text-decoration-color: #00af00\">67500</span>)          │             <span style=\"color: #00af00; text-decoration-color: #00af00\">0</span> │\n",
              "├─────────────────────────────────┼────────────────────────┼───────────────┤\n",
              "│ dense_15 (<span style=\"color: #0087ff; text-decoration-color: #0087ff\">Dense</span>)                │ (<span style=\"color: #00d7ff; text-decoration-color: #00d7ff\">None</span>, <span style=\"color: #00af00; text-decoration-color: #00af00\">64</span>)             │     <span style=\"color: #00af00; text-decoration-color: #00af00\">4,320,064</span> │\n",
              "├─────────────────────────────────┼────────────────────────┼───────────────┤\n",
              "│ dense_16 (<span style=\"color: #0087ff; text-decoration-color: #0087ff\">Dense</span>)                │ (<span style=\"color: #00d7ff; text-decoration-color: #00d7ff\">None</span>, <span style=\"color: #00af00; text-decoration-color: #00af00\">32</span>)             │         <span style=\"color: #00af00; text-decoration-color: #00af00\">2,080</span> │\n",
              "├─────────────────────────────────┼────────────────────────┼───────────────┤\n",
              "│ dense_17 (<span style=\"color: #0087ff; text-decoration-color: #0087ff\">Dense</span>)                │ (<span style=\"color: #00d7ff; text-decoration-color: #00d7ff\">None</span>, <span style=\"color: #00af00; text-decoration-color: #00af00\">1</span>)              │            <span style=\"color: #00af00; text-decoration-color: #00af00\">33</span> │\n",
              "└─────────────────────────────────┴────────────────────────┴───────────────┘\n",
              "</pre>\n"
            ]
          },
          "metadata": {}
        },
        {
          "output_type": "display_data",
          "data": {
            "text/plain": [
              "\u001b[1m Total params: \u001b[0m\u001b[38;5;34m4,322,177\u001b[0m (16.49 MB)\n"
            ],
            "text/html": [
              "<pre style=\"white-space:pre;overflow-x:auto;line-height:normal;font-family:Menlo,'DejaVu Sans Mono',consolas,'Courier New',monospace\"><span style=\"font-weight: bold\"> Total params: </span><span style=\"color: #00af00; text-decoration-color: #00af00\">4,322,177</span> (16.49 MB)\n",
              "</pre>\n"
            ]
          },
          "metadata": {}
        },
        {
          "output_type": "display_data",
          "data": {
            "text/plain": [
              "\u001b[1m Trainable params: \u001b[0m\u001b[38;5;34m4,322,177\u001b[0m (16.49 MB)\n"
            ],
            "text/html": [
              "<pre style=\"white-space:pre;overflow-x:auto;line-height:normal;font-family:Menlo,'DejaVu Sans Mono',consolas,'Courier New',monospace\"><span style=\"font-weight: bold\"> Trainable params: </span><span style=\"color: #00af00; text-decoration-color: #00af00\">4,322,177</span> (16.49 MB)\n",
              "</pre>\n"
            ]
          },
          "metadata": {}
        },
        {
          "output_type": "display_data",
          "data": {
            "text/plain": [
              "\u001b[1m Non-trainable params: \u001b[0m\u001b[38;5;34m0\u001b[0m (0.00 B)\n"
            ],
            "text/html": [
              "<pre style=\"white-space:pre;overflow-x:auto;line-height:normal;font-family:Menlo,'DejaVu Sans Mono',consolas,'Courier New',monospace\"><span style=\"font-weight: bold\"> Non-trainable params: </span><span style=\"color: #00af00; text-decoration-color: #00af00\">0</span> (0.00 B)\n",
              "</pre>\n"
            ]
          },
          "metadata": {}
        }
      ]
    },
    {
      "cell_type": "markdown",
      "source": [
        "TRAINING CNN"
      ],
      "metadata": {
        "id": "trn4cbwpOTPj"
      }
    },
    {
      "cell_type": "code",
      "source": [
        "cnn_history = cnn_model.fit(\n",
        "    train_generator,\n",
        "    steps_per_epoch=train_generator.samples // train_generator.batch_size,\n",
        "    epochs=10,\n",
        "    validation_data=validation_generator,\n",
        "    validation_steps=validation_generator.samples // validation_generator.batch_size\n",
        ")"
      ],
      "metadata": {
        "id": "8BG2OfpvDyiw",
        "colab": {
          "base_uri": "https://localhost:8080/"
        },
        "outputId": "396a7948-227c-460e-ce8f-0bcfaf9c8d94"
      },
      "execution_count": null,
      "outputs": [
        {
          "output_type": "stream",
          "name": "stdout",
          "text": [
            "Epoch 1/10\n",
            "\u001b[1m81/81\u001b[0m \u001b[32m━━━━━━━━━━━━━━━━━━━━\u001b[0m\u001b[37m\u001b[0m \u001b[1m150s\u001b[0m 2s/step - accuracy: 0.5635 - loss: 0.7514 - val_accuracy: 0.7172 - val_loss: 0.5509\n",
            "Epoch 2/10\n",
            "\u001b[1m81/81\u001b[0m \u001b[32m━━━━━━━━━━━━━━━━━━━━\u001b[0m\u001b[37m\u001b[0m \u001b[1m13s\u001b[0m 143ms/step - accuracy: 0.8438 - loss: 0.4460 - val_accuracy: 0.7422 - val_loss: 0.5462\n",
            "Epoch 3/10\n",
            "\u001b[1m81/81\u001b[0m \u001b[32m━━━━━━━━━━━━━━━━━━━━\u001b[0m\u001b[37m\u001b[0m \u001b[1m202s\u001b[0m 3s/step - accuracy: 0.8626 - loss: 0.3149 - val_accuracy: 0.8156 - val_loss: 0.6825\n",
            "Epoch 4/10\n",
            "\u001b[1m81/81\u001b[0m \u001b[32m━━━━━━━━━━━━━━━━━━━━\u001b[0m\u001b[37m\u001b[0m \u001b[1m13s\u001b[0m 143ms/step - accuracy: 0.9375 - loss: 0.1017 - val_accuracy: 0.8125 - val_loss: 0.6461\n",
            "Epoch 5/10\n",
            "\u001b[1m81/81\u001b[0m \u001b[32m━━━━━━━━━━━━━━━━━━━━\u001b[0m\u001b[37m\u001b[0m \u001b[1m0s\u001b[0m 2s/step - accuracy: 0.9599 - loss: 0.1223"
          ]
        }
      ]
    },
    {
      "cell_type": "markdown",
      "source": [
        "TRAINING ANN"
      ],
      "metadata": {
        "id": "XMwdB2PwOday"
      }
    },
    {
      "cell_type": "code",
      "source": [
        "ann_history = ann_model.fit(\n",
        "    train_generator,\n",
        "    steps_per_epoch=train_generator.samples // train_generator.batch_size,\n",
        "    epochs=10,\n",
        "    validation_data=validation_generator,\n",
        "    validation_steps=validation_generator.samples // validation_generator.batch_size\n",
        ")"
      ],
      "metadata": {
        "colab": {
          "base_uri": "https://localhost:8080/"
        },
        "id": "chAYS4lYD1kf",
        "outputId": "ca1192e0-1531-4d61-8563-961b0e8cdd07"
      },
      "execution_count": null,
      "outputs": [
        {
          "output_type": "stream",
          "name": "stdout",
          "text": [
            "Starting Training Loop...\n",
            "[12/3000][1/4]\tLoss_D: 0.2452\tLoss_G: 9.1207\tD(x): 0.9891\tD(G(z)): 0.1909 / 0.0002\n",
            "[24/3000][3/4]\tLoss_D: 0.5883\tLoss_G: 8.7799\tD(x): 0.9361\tD(G(z)): 0.3500 / 0.0003\n",
            "[37/3000][1/4]\tLoss_D: 0.2480\tLoss_G: 7.4460\tD(x): 0.8170\tD(G(z)): 0.0049 / 0.0010\n",
            "[49/3000][3/4]\tLoss_D: 0.1227\tLoss_G: 11.3447\tD(x): 0.9133\tD(G(z)): 0.0001 / 0.0001\n",
            "[62/3000][1/4]\tLoss_D: 0.5083\tLoss_G: 10.8178\tD(x): 0.9845\tD(G(z)): 0.3331 / 0.0000\n",
            "[74/3000][3/4]\tLoss_D: 0.0062\tLoss_G: 6.0325\tD(x): 0.9978\tD(G(z)): 0.0040 / 0.0059\n",
            "[87/3000][1/4]\tLoss_D: 0.1344\tLoss_G: 6.2843\tD(x): 0.9343\tD(G(z)): 0.0575 / 0.0022\n",
            "[99/3000][3/4]\tLoss_D: 0.0259\tLoss_G: 9.2601\tD(x): 0.9841\tD(G(z)): 0.0091 / 0.0004\n",
            "[112/3000][1/4]\tLoss_D: 0.0207\tLoss_G: 9.3531\tD(x): 0.9893\tD(G(z)): 0.0096 / 0.0001\n",
            "[124/3000][3/4]\tLoss_D: 0.0233\tLoss_G: 9.7506\tD(x): 0.9792\tD(G(z)): 0.0001 / 0.0001\n",
            "[137/3000][1/4]\tLoss_D: 0.2578\tLoss_G: 7.8780\tD(x): 0.9661\tD(G(z)): 0.1725 / 0.0006\n",
            "[149/3000][3/4]\tLoss_D: 0.0399\tLoss_G: 5.2346\tD(x): 0.9744\tD(G(z)): 0.0116 / 0.0081\n",
            "[162/3000][1/4]\tLoss_D: 0.1682\tLoss_G: 12.5358\tD(x): 0.8652\tD(G(z)): 0.0002 / 0.0000\n",
            "[174/3000][3/4]\tLoss_D: 0.4586\tLoss_G: 19.9691\tD(x): 0.9980\tD(G(z)): 0.3570 / 0.0000\n",
            "[187/3000][1/4]\tLoss_D: 0.0490\tLoss_G: 13.3322\tD(x): 0.9610\tD(G(z)): 0.0005 / 0.0001\n",
            "[199/3000][3/4]\tLoss_D: 0.0828\tLoss_G: 5.8374\tD(x): 0.9699\tD(G(z)): 0.0412 / 0.0044\n",
            "[212/3000][1/4]\tLoss_D: 0.0003\tLoss_G: 39.3032\tD(x): 0.9997\tD(G(z)): 0.0000 / 0.0000\n",
            "[224/3000][3/4]\tLoss_D: 0.3153\tLoss_G: 15.5375\tD(x): 0.9397\tD(G(z)): 0.1925 / 0.0000\n",
            "[237/3000][1/4]\tLoss_D: 0.2546\tLoss_G: 8.7069\tD(x): 0.8543\tD(G(z)): 0.0036 / 0.0035\n",
            "[249/3000][3/4]\tLoss_D: 0.0910\tLoss_G: 5.3727\tD(x): 0.9473\tD(G(z)): 0.0281 / 0.0076\n",
            "[262/3000][1/4]\tLoss_D: 0.1859\tLoss_G: 11.1958\tD(x): 0.9965\tD(G(z)): 0.1453 / 0.0001\n",
            "[274/3000][3/4]\tLoss_D: 0.3386\tLoss_G: 16.1133\tD(x): 0.9915\tD(G(z)): 0.2657 / 0.0000\n",
            "[287/3000][1/4]\tLoss_D: 0.0805\tLoss_G: 7.0655\tD(x): 0.9798\tD(G(z)): 0.0572 / 0.0014\n",
            "[299/3000][3/4]\tLoss_D: 0.0550\tLoss_G: 9.3777\tD(x): 0.9579\tD(G(z)): 0.0059 / 0.0005\n",
            "[312/3000][1/4]\tLoss_D: 0.3036\tLoss_G: 13.0864\tD(x): 0.9725\tD(G(z)): 0.2247 / 0.0000\n",
            "[324/3000][3/4]\tLoss_D: 0.1911\tLoss_G: 7.8474\tD(x): 0.9909\tD(G(z)): 0.1593 / 0.0010\n",
            "[337/3000][1/4]\tLoss_D: 0.2455\tLoss_G: 4.5824\tD(x): 0.8950\tD(G(z)): 0.0690 / 0.0169\n",
            "[349/3000][3/4]\tLoss_D: 0.2045\tLoss_G: 9.0722\tD(x): 0.9475\tD(G(z)): 0.1093 / 0.0002\n",
            "[362/3000][1/4]\tLoss_D: 0.0685\tLoss_G: 5.9713\tD(x): 0.9828\tD(G(z)): 0.0476 / 0.0054\n",
            "[374/3000][3/4]\tLoss_D: 0.3335\tLoss_G: 11.2085\tD(x): 0.9636\tD(G(z)): 0.2231 / 0.0000\n",
            "[387/3000][1/4]\tLoss_D: 0.0393\tLoss_G: 6.4674\tD(x): 0.9924\tD(G(z)): 0.0308 / 0.0024\n",
            "[399/3000][3/4]\tLoss_D: 0.1889\tLoss_G: 6.5866\tD(x): 0.9408\tD(G(z)): 0.0942 / 0.0069\n",
            "[412/3000][1/4]\tLoss_D: 0.0815\tLoss_G: 5.8322\tD(x): 0.9608\tD(G(z)): 0.0348 / 0.0048\n",
            "[424/3000][3/4]\tLoss_D: 0.5181\tLoss_G: 5.9664\tD(x): 0.7360\tD(G(z)): 0.0043 / 0.0572\n",
            "[437/3000][1/4]\tLoss_D: 0.1665\tLoss_G: 5.7757\tD(x): 0.9334\tD(G(z)): 0.0593 / 0.0052\n",
            "[449/3000][3/4]\tLoss_D: 0.1461\tLoss_G: 9.0229\tD(x): 0.9858\tD(G(z)): 0.1175 / 0.0002\n",
            "[462/3000][1/4]\tLoss_D: 0.6741\tLoss_G: 4.5555\tD(x): 0.6873\tD(G(z)): 0.0002 / 0.0204\n",
            "[474/3000][3/4]\tLoss_D: 0.0823\tLoss_G: 5.8183\tD(x): 0.9641\tD(G(z)): 0.0418 / 0.0067\n",
            "[487/3000][1/4]\tLoss_D: 0.0623\tLoss_G: 6.1480\tD(x): 0.9912\tD(G(z)): 0.0482 / 0.0081\n",
            "[499/3000][3/4]\tLoss_D: 0.0464\tLoss_G: 6.3283\tD(x): 0.9820\tD(G(z)): 0.0259 / 0.0034\n",
            "[512/3000][1/4]\tLoss_D: 0.1966\tLoss_G: 5.9824\tD(x): 0.9320\tD(G(z)): 0.0832 / 0.0054\n",
            "[524/3000][3/4]\tLoss_D: 0.4762\tLoss_G: 13.2921\tD(x): 0.9995\tD(G(z)): 0.3169 / 0.0011\n",
            "[537/3000][1/4]\tLoss_D: 0.0682\tLoss_G: 6.7235\tD(x): 0.9493\tD(G(z)): 0.0074 / 0.0106\n",
            "[549/3000][3/4]\tLoss_D: 0.0827\tLoss_G: 5.9632\tD(x): 0.9353\tD(G(z)): 0.0070 / 0.0055\n",
            "[562/3000][1/4]\tLoss_D: 0.0138\tLoss_G: 6.4742\tD(x): 0.9935\tD(G(z)): 0.0070 / 0.0050\n",
            "[574/3000][3/4]\tLoss_D: 5.7682\tLoss_G: 18.9952\tD(x): 0.0766\tD(G(z)): 0.0000 / 0.0003\n",
            "[587/3000][1/4]\tLoss_D: 0.1417\tLoss_G: 4.8518\tD(x): 0.9136\tD(G(z)): 0.0221 / 0.0175\n",
            "[599/3000][3/4]\tLoss_D: 0.0347\tLoss_G: 7.0442\tD(x): 0.9819\tD(G(z)): 0.0156 / 0.0031\n",
            "[612/3000][1/4]\tLoss_D: 0.1446\tLoss_G: 8.1287\tD(x): 0.9950\tD(G(z)): 0.1208 / 0.0008\n",
            "[624/3000][3/4]\tLoss_D: 0.1006\tLoss_G: 5.6875\tD(x): 0.9294\tD(G(z)): 0.0072 / 0.0061\n",
            "[637/3000][1/4]\tLoss_D: 0.0660\tLoss_G: 5.3805\tD(x): 0.9726\tD(G(z)): 0.0362 / 0.0072\n",
            "[649/3000][3/4]\tLoss_D: 0.0552\tLoss_G: 5.3129\tD(x): 0.9736\tD(G(z)): 0.0265 / 0.0080\n",
            "[662/3000][1/4]\tLoss_D: 0.0679\tLoss_G: 5.0905\tD(x): 0.9630\tD(G(z)): 0.0267 / 0.0110\n",
            "[674/3000][3/4]\tLoss_D: 0.0750\tLoss_G: 4.9142\tD(x): 0.9576\tD(G(z)): 0.0295 / 0.0129\n",
            "[687/3000][1/4]\tLoss_D: 0.0078\tLoss_G: 10.9193\tD(x): 0.9956\tD(G(z)): 0.0031 / 0.0014\n",
            "[699/3000][3/4]\tLoss_D: 0.0182\tLoss_G: 6.6743\tD(x): 0.9951\tD(G(z)): 0.0131 / 0.0020\n",
            "[712/3000][1/4]\tLoss_D: 0.0387\tLoss_G: 5.8543\tD(x): 0.9681\tD(G(z)): 0.0044 / 0.0044\n",
            "[724/3000][3/4]\tLoss_D: 0.0320\tLoss_G: 5.3338\tD(x): 0.9927\tD(G(z)): 0.0242 / 0.0067\n",
            "[737/3000][1/4]\tLoss_D: 0.2370\tLoss_G: 11.4578\tD(x): 0.9386\tD(G(z)): 0.0824 / 0.0004\n",
            "[749/3000][3/4]\tLoss_D: 0.1280\tLoss_G: 8.3628\tD(x): 0.9882\tD(G(z)): 0.1025 / 0.0009\n",
            "[762/3000][1/4]\tLoss_D: 0.0398\tLoss_G: 5.7461\tD(x): 0.9760\tD(G(z)): 0.0145 / 0.0047\n",
            "[774/3000][3/4]\tLoss_D: 0.0582\tLoss_G: 4.7796\tD(x): 0.9615\tD(G(z)): 0.0171 / 0.0162\n",
            "[787/3000][1/4]\tLoss_D: 0.0394\tLoss_G: 5.6417\tD(x): 0.9961\tD(G(z)): 0.0342 / 0.0051\n",
            "[799/3000][3/4]\tLoss_D: 0.1143\tLoss_G: 8.4619\tD(x): 0.9938\tD(G(z)): 0.0913 / 0.0011\n",
            "[812/3000][1/4]\tLoss_D: 0.0363\tLoss_G: 5.5993\tD(x): 0.9839\tD(G(z)): 0.0192 / 0.0068\n",
            "[824/3000][3/4]\tLoss_D: 0.0626\tLoss_G: 6.7218\tD(x): 0.9899\tD(G(z)): 0.0498 / 0.0026\n",
            "[837/3000][1/4]\tLoss_D: 0.2153\tLoss_G: 13.8235\tD(x): 0.9568\tD(G(z)): 0.1235 / 0.0019\n",
            "[849/3000][3/4]\tLoss_D: 0.1022\tLoss_G: 7.4301\tD(x): 0.9948\tD(G(z)): 0.0891 / 0.0031\n",
            "[862/3000][1/4]\tLoss_D: 0.0292\tLoss_G: 6.2526\tD(x): 0.9907\tD(G(z)): 0.0194 / 0.0028\n",
            "[874/3000][3/4]\tLoss_D: 0.0638\tLoss_G: 4.9649\tD(x): 0.9616\tD(G(z)): 0.0171 / 0.0120\n",
            "[887/3000][1/4]\tLoss_D: 0.0224\tLoss_G: 5.8919\tD(x): 0.9920\tD(G(z)): 0.0141 / 0.0045\n",
            "[899/3000][3/4]\tLoss_D: 0.0270\tLoss_G: 6.6338\tD(x): 0.9845\tD(G(z)): 0.0097 / 0.0039\n",
            "[912/3000][1/4]\tLoss_D: 0.0324\tLoss_G: 6.0409\tD(x): 0.9869\tD(G(z)): 0.0186 / 0.0035\n",
            "[924/3000][3/4]\tLoss_D: 0.0493\tLoss_G: 5.8804\tD(x): 0.9687\tD(G(z)): 0.0119 / 0.0045\n",
            "[937/3000][1/4]\tLoss_D: 0.0996\tLoss_G: 9.0049\tD(x): 0.9976\tD(G(z)): 0.0896 / 0.0002\n",
            "[949/3000][3/4]\tLoss_D: 0.0369\tLoss_G: 5.8132\tD(x): 0.9862\tD(G(z)): 0.0221 / 0.0043\n",
            "[962/3000][1/4]\tLoss_D: 0.0209\tLoss_G: 5.6981\tD(x): 0.9921\tD(G(z)): 0.0128 / 0.0049\n",
            "[974/3000][3/4]\tLoss_D: 0.0400\tLoss_G: 6.6617\tD(x): 0.9823\tD(G(z)): 0.0201 / 0.0024\n",
            "[987/3000][1/4]\tLoss_D: 0.0207\tLoss_G: 6.5821\tD(x): 0.9953\tD(G(z)): 0.0156 / 0.0024\n",
            "[999/3000][3/4]\tLoss_D: 1.3049\tLoss_G: 11.7508\tD(x): 0.6675\tD(G(z)): 0.0084 / 0.1876\n",
            "[1012/3000][1/4]\tLoss_D: 0.0274\tLoss_G: 6.2294\tD(x): 0.9909\tD(G(z)): 0.0176 / 0.0036\n",
            "[1024/3000][3/4]\tLoss_D: 0.0561\tLoss_G: 6.3530\tD(x): 0.9841\tD(G(z)): 0.0367 / 0.0040\n",
            "[1037/3000][1/4]\tLoss_D: 0.0332\tLoss_G: 6.7458\tD(x): 0.9915\tD(G(z)): 0.0236 / 0.0020\n",
            "[1049/3000][3/4]\tLoss_D: 0.0264\tLoss_G: 5.6295\tD(x): 0.9893\tD(G(z)): 0.0152 / 0.0055\n",
            "[1062/3000][1/4]\tLoss_D: 0.0311\tLoss_G: 6.2823\tD(x): 0.9862\tD(G(z)): 0.0167 / 0.0032\n",
            "[1074/3000][3/4]\tLoss_D: 0.0250\tLoss_G: 5.8085\tD(x): 0.9887\tD(G(z)): 0.0133 / 0.0045\n",
            "[1087/3000][1/4]\tLoss_D: 0.0128\tLoss_G: 6.1589\tD(x): 0.9925\tD(G(z)): 0.0051 / 0.0037\n",
            "[1099/3000][3/4]\tLoss_D: 0.0554\tLoss_G: 5.0593\tD(x): 0.9703\tD(G(z)): 0.0126 / 0.0111\n",
            "[1112/3000][1/4]\tLoss_D: 0.0545\tLoss_G: 7.6034\tD(x): 0.9840\tD(G(z)): 0.0366 / 0.0036\n",
            "[1124/3000][3/4]\tLoss_D: 0.1371\tLoss_G: 14.7583\tD(x): 0.9996\tD(G(z)): 0.1105 / 0.0018\n",
            "[1137/3000][1/4]\tLoss_D: 0.0144\tLoss_G: 8.8929\tD(x): 0.9921\tD(G(z)): 0.0063 / 0.0008\n",
            "[1149/3000][3/4]\tLoss_D: 0.0199\tLoss_G: 6.5691\tD(x): 0.9934\tD(G(z)): 0.0130 / 0.0027\n",
            "[1162/3000][1/4]\tLoss_D: 0.0098\tLoss_G: 6.0100\tD(x): 0.9978\tD(G(z)): 0.0076 / 0.0034\n",
            "[1174/3000][3/4]\tLoss_D: 0.0197\tLoss_G: 6.1106\tD(x): 0.9931\tD(G(z)): 0.0125 / 0.0042\n",
            "[1187/3000][1/4]\tLoss_D: 0.0152\tLoss_G: 8.0661\tD(x): 0.9894\tD(G(z)): 0.0013 / 0.0012\n",
            "[1199/3000][3/4]\tLoss_D: 0.0088\tLoss_G: 6.2691\tD(x): 0.9965\tD(G(z)): 0.0052 / 0.0037\n",
            "[1212/3000][1/4]\tLoss_D: 0.0074\tLoss_G: 7.1639\tD(x): 0.9946\tD(G(z)): 0.0017 / 0.0018\n",
            "[1224/3000][3/4]\tLoss_D: 0.0100\tLoss_G: 6.6105\tD(x): 0.9976\tD(G(z)): 0.0074 / 0.0023\n",
            "[1237/3000][1/4]\tLoss_D: 0.0273\tLoss_G: 5.4152\tD(x): 0.9795\tD(G(z)): 0.0061 / 0.0068\n",
            "[1249/3000][3/4]\tLoss_D: 0.0243\tLoss_G: 6.1282\tD(x): 0.9902\tD(G(z)): 0.0141 / 0.0031\n",
            "[1262/3000][1/4]\tLoss_D: 0.0303\tLoss_G: 14.5054\tD(x): 0.9826\tD(G(z)): 0.0097 / 0.0014\n",
            "[1274/3000][3/4]\tLoss_D: 0.0231\tLoss_G: 6.2211\tD(x): 0.9884\tD(G(z)): 0.0110 / 0.0030\n",
            "[1287/3000][1/4]\tLoss_D: 0.0190\tLoss_G: 6.5869\tD(x): 0.9867\tD(G(z)): 0.0040 / 0.0024\n",
            "[1299/3000][3/4]\tLoss_D: 0.0133\tLoss_G: 6.3699\tD(x): 0.9932\tD(G(z)): 0.0062 / 0.0027\n",
            "[1312/3000][1/4]\tLoss_D: 0.0233\tLoss_G: 5.3141\tD(x): 0.9830\tD(G(z)): 0.0054 / 0.0065\n",
            "[1324/3000][3/4]\tLoss_D: 0.0098\tLoss_G: 6.1614\tD(x): 0.9954\tD(G(z)): 0.0051 / 0.0026\n",
            "[1337/3000][1/4]\tLoss_D: 0.0048\tLoss_G: 7.2531\tD(x): 0.9988\tD(G(z)): 0.0036 / 0.0014\n",
            "[1349/3000][3/4]\tLoss_D: 0.0680\tLoss_G: 9.2785\tD(x): 0.9549\tD(G(z)): 0.0004 / 0.0016\n",
            "[1362/3000][1/4]\tLoss_D: 0.0164\tLoss_G: 5.9978\tD(x): 0.9994\tD(G(z)): 0.0150 / 0.0100\n",
            "[1374/3000][3/4]\tLoss_D: 0.0067\tLoss_G: 9.0830\tD(x): 0.9974\tD(G(z)): 0.0041 / 0.0012\n",
            "[1387/3000][1/4]\tLoss_D: 0.0187\tLoss_G: 6.6202\tD(x): 0.9970\tD(G(z)): 0.0155 / 0.0024\n",
            "[1399/3000][3/4]\tLoss_D: 0.0212\tLoss_G: 6.8960\tD(x): 0.9898\tD(G(z)): 0.0107 / 0.0021\n",
            "[1412/3000][1/4]\tLoss_D: 0.0175\tLoss_G: 6.3825\tD(x): 0.9866\tD(G(z)): 0.0038 / 0.0023\n",
            "[1424/3000][3/4]\tLoss_D: 0.0103\tLoss_G: 6.3672\tD(x): 0.9962\tD(G(z)): 0.0064 / 0.0023\n",
            "[1437/3000][1/4]\tLoss_D: 0.0117\tLoss_G: 6.4870\tD(x): 0.9926\tD(G(z)): 0.0042 / 0.0022\n",
            "[1449/3000][3/4]\tLoss_D: 0.0162\tLoss_G: 6.9452\tD(x): 0.9978\tD(G(z)): 0.0138 / 0.0013\n",
            "[1462/3000][1/4]\tLoss_D: 0.0323\tLoss_G: 7.5438\tD(x): 0.9720\tD(G(z)): 0.0008 / 0.0017\n",
            "[1474/3000][3/4]\tLoss_D: 0.0103\tLoss_G: 6.7869\tD(x): 0.9930\tD(G(z)): 0.0031 / 0.0017\n",
            "[1487/3000][1/4]\tLoss_D: 0.1887\tLoss_G: 26.3826\tD(x): 0.9424\tD(G(z)): 0.0000 / 0.0000\n",
            "[1499/3000][3/4]\tLoss_D: 0.0242\tLoss_G: 22.2268\tD(x): 0.9916\tD(G(z)): 0.0133 / 0.0035\n",
            "[1512/3000][1/4]\tLoss_D: 0.0732\tLoss_G: 11.0894\tD(x): 0.9485\tD(G(z)): 0.0058 / 0.0037\n",
            "[1524/3000][3/4]\tLoss_D: 0.0703\tLoss_G: 4.7557\tD(x): 0.9607\tD(G(z)): 0.0211 / 0.0128\n",
            "[1537/3000][1/4]\tLoss_D: 0.0753\tLoss_G: 6.2066\tD(x): 0.9520\tD(G(z)): 0.0194 / 0.0045\n",
            "[1549/3000][3/4]\tLoss_D: 0.0253\tLoss_G: 5.9726\tD(x): 0.9824\tD(G(z)): 0.0074 / 0.0038\n",
            "[1562/3000][1/4]\tLoss_D: 0.0199\tLoss_G: 5.7355\tD(x): 0.9888\tD(G(z)): 0.0082 / 0.0048\n",
            "[1574/3000][3/4]\tLoss_D: 0.0122\tLoss_G: 6.5262\tD(x): 0.9935\tD(G(z)): 0.0055 / 0.0021\n",
            "[1587/3000][1/4]\tLoss_D: 0.0120\tLoss_G: 6.5777\tD(x): 0.9966\tD(G(z)): 0.0085 / 0.0018\n",
            "[1599/3000][3/4]\tLoss_D: 0.0438\tLoss_G: 4.7262\tD(x): 0.9617\tD(G(z)): 0.0026 / 0.0123\n",
            "[1612/3000][1/4]\tLoss_D: 0.0160\tLoss_G: 8.3013\tD(x): 0.9959\tD(G(z)): 0.0114 / 0.0017\n",
            "[1624/3000][3/4]\tLoss_D: 0.0451\tLoss_G: 7.7228\tD(x): 0.9960\tD(G(z)): 0.0389 / 0.0009\n",
            "[1637/3000][1/4]\tLoss_D: 0.0147\tLoss_G: 6.1517\tD(x): 0.9895\tD(G(z)): 0.0037 / 0.0027\n",
            "[1649/3000][3/4]\tLoss_D: 0.0119\tLoss_G: 5.5910\tD(x): 0.9948\tD(G(z)): 0.0063 / 0.0053\n",
            "[1662/3000][1/4]\tLoss_D: 0.0803\tLoss_G: 5.5564\tD(x): 0.9409\tD(G(z)): 0.0014 / 0.0066\n",
            "[1674/3000][3/4]\tLoss_D: 2.2685\tLoss_G: 40.7879\tD(x): 0.5887\tD(G(z)): 0.0038 / 0.1773\n",
            "[1687/3000][1/4]\tLoss_D: 0.0366\tLoss_G: 7.9191\tD(x): 0.9792\tD(G(z)): 0.0138 / 0.0019\n",
            "[1699/3000][3/4]\tLoss_D: 0.0163\tLoss_G: 6.5225\tD(x): 0.9912\tD(G(z)): 0.0073 / 0.0018\n",
            "[1712/3000][1/4]\tLoss_D: 0.0288\tLoss_G: 5.8639\tD(x): 0.9787\tD(G(z)): 0.0067 / 0.0046\n",
            "[1724/3000][3/4]\tLoss_D: 0.0163\tLoss_G: 5.7165\tD(x): 0.9925\tD(G(z)): 0.0085 / 0.0043\n",
            "[1737/3000][1/4]\tLoss_D: 0.0107\tLoss_G: 6.2042\tD(x): 0.9938\tD(G(z)): 0.0043 / 0.0026\n",
            "[1749/3000][3/4]\tLoss_D: 0.0213\tLoss_G: 5.6917\tD(x): 0.9959\tD(G(z)): 0.0169 / 0.0049\n",
            "[1762/3000][1/4]\tLoss_D: 0.0177\tLoss_G: 8.1536\tD(x): 0.9945\tD(G(z)): 0.0119 / 0.0026\n",
            "[1774/3000][3/4]\tLoss_D: 0.0183\tLoss_G: 5.9941\tD(x): 0.9872\tD(G(z)): 0.0051 / 0.0031\n",
            "[1787/3000][1/4]\tLoss_D: 0.0083\tLoss_G: 6.2887\tD(x): 0.9956\tD(G(z)): 0.0039 / 0.0024\n",
            "[1799/3000][3/4]\tLoss_D: 0.0177\tLoss_G: 6.5356\tD(x): 0.9881\tD(G(z)): 0.0054 / 0.0020\n",
            "[1812/3000][1/4]\tLoss_D: 0.0111\tLoss_G: 6.0479\tD(x): 0.9941\tD(G(z)): 0.0051 / 0.0030\n",
            "[1824/3000][3/4]\tLoss_D: 0.1577\tLoss_G: 15.8479\tD(x): 0.9978\tD(G(z)): 0.1145 / 0.0007\n",
            "[1837/3000][1/4]\tLoss_D: 0.0334\tLoss_G: 8.1888\tD(x): 0.9956\tD(G(z)): 0.0283 / 0.0012\n",
            "[1849/3000][3/4]\tLoss_D: 0.0250\tLoss_G: 5.4880\tD(x): 0.9953\tD(G(z)): 0.0199 / 0.0048\n",
            "[1862/3000][1/4]\tLoss_D: 0.0133\tLoss_G: 6.2076\tD(x): 0.9977\tD(G(z)): 0.0109 / 0.0027\n",
            "[1874/3000][3/4]\tLoss_D: 0.0062\tLoss_G: 6.3658\tD(x): 0.9977\tD(G(z)): 0.0038 / 0.0021\n",
            "[1887/3000][1/4]\tLoss_D: 0.0141\tLoss_G: 6.5933\tD(x): 0.9930\tD(G(z)): 0.0069 / 0.0019\n",
            "[1899/3000][3/4]\tLoss_D: 0.0060\tLoss_G: 6.9769\tD(x): 0.9975\tD(G(z)): 0.0035 / 0.0014\n",
            "[1912/3000][1/4]\tLoss_D: 0.0049\tLoss_G: 17.4977\tD(x): 0.9988\tD(G(z)): 0.0036 / 0.0018\n",
            "[1924/3000][3/4]\tLoss_D: 0.0135\tLoss_G: 9.4847\tD(x): 0.9961\tD(G(z)): 0.0094 / 0.0010\n",
            "[1937/3000][1/4]\tLoss_D: 0.0158\tLoss_G: 6.7850\tD(x): 0.9891\tD(G(z)): 0.0046 / 0.0015\n",
            "[1949/3000][3/4]\tLoss_D: 0.0072\tLoss_G: 7.4796\tD(x): 0.9951\tD(G(z)): 0.0022 / 0.0011\n",
            "[1962/3000][1/4]\tLoss_D: 0.0165\tLoss_G: 6.0894\tD(x): 0.9937\tD(G(z)): 0.0100 / 0.0036\n",
            "[1974/3000][3/4]\tLoss_D: 0.0280\tLoss_G: 5.3019\tD(x): 0.9818\tD(G(z)): 0.0077 / 0.0074\n",
            "[1987/3000][1/4]\tLoss_D: 0.0140\tLoss_G: 6.3206\tD(x): 0.9936\tD(G(z)): 0.0075 / 0.0023\n",
            "[1999/3000][3/4]\tLoss_D: 0.0129\tLoss_G: 6.8414\tD(x): 0.9910\tD(G(z)): 0.0033 / 0.0018\n",
            "[2012/3000][1/4]\tLoss_D: 0.0301\tLoss_G: 6.7336\tD(x): 0.9994\tD(G(z)): 0.0282 / 0.0041\n",
            "[2024/3000][3/4]\tLoss_D: 0.0048\tLoss_G: 6.6477\tD(x): 0.9988\tD(G(z)): 0.0036 / 0.0022\n",
            "[2037/3000][1/4]\tLoss_D: 0.0101\tLoss_G: 6.0702\tD(x): 0.9977\tD(G(z)): 0.0078 / 0.0034\n",
            "[2049/3000][3/4]\tLoss_D: 0.0333\tLoss_G: 7.4189\tD(x): 0.9791\tD(G(z)): 0.0101 / 0.0012\n",
            "[2062/3000][1/4]\tLoss_D: 0.0197\tLoss_G: 6.3052\tD(x): 0.9951\tD(G(z)): 0.0146 / 0.0026\n",
            "[2074/3000][3/4]\tLoss_D: 0.0120\tLoss_G: 7.6612\tD(x): 0.9919\tD(G(z)): 0.0036 / 0.0018\n",
            "[2087/3000][1/4]\tLoss_D: 0.0029\tLoss_G: 8.4296\tD(x): 0.9991\tD(G(z)): 0.0020 / 0.0007\n",
            "[2099/3000][3/4]\tLoss_D: 0.1047\tLoss_G: 3.2517\tD(x): 0.9146\tD(G(z)): 0.0031 / 0.1415\n",
            "[2112/3000][1/4]\tLoss_D: 0.4804\tLoss_G: 34.5987\tD(x): 0.9985\tD(G(z)): 0.1910 / 0.0000\n",
            "[2124/3000][3/4]\tLoss_D: 0.0075\tLoss_G: 9.7115\tD(x): 0.9948\tD(G(z)): 0.0023 / 0.0006\n",
            "[2137/3000][1/4]\tLoss_D: 0.0117\tLoss_G: 7.5498\tD(x): 0.9914\tD(G(z)): 0.0030 / 0.0019\n",
            "[2149/3000][3/4]\tLoss_D: 0.0202\tLoss_G: 6.1719\tD(x): 0.9952\tD(G(z)): 0.0151 / 0.0031\n",
            "[2162/3000][1/4]\tLoss_D: 0.0132\tLoss_G: 6.4673\tD(x): 0.9966\tD(G(z)): 0.0097 / 0.0026\n",
            "[2174/3000][3/4]\tLoss_D: 0.0071\tLoss_G: 6.3158\tD(x): 0.9971\tD(G(z)): 0.0041 / 0.0037\n",
            "[2187/3000][1/4]\tLoss_D: 0.0217\tLoss_G: 5.9517\tD(x): 0.9830\tD(G(z)): 0.0042 / 0.0032\n",
            "[2199/3000][3/4]\tLoss_D: 0.0124\tLoss_G: 6.1872\tD(x): 0.9916\tD(G(z)): 0.0038 / 0.0024\n",
            "[2212/3000][1/4]\tLoss_D: 0.0171\tLoss_G: 5.6305\tD(x): 0.9904\tD(G(z)): 0.0067 / 0.0050\n",
            "[2224/3000][3/4]\tLoss_D: 0.0337\tLoss_G: 6.4184\tD(x): 0.9854\tD(G(z)): 0.0088 / 0.0046\n",
            "[2237/3000][1/4]\tLoss_D: 0.0225\tLoss_G: 6.4869\tD(x): 0.9808\tD(G(z)): 0.0013 / 0.0033\n",
            "[2249/3000][3/4]\tLoss_D: 0.3213\tLoss_G: 40.9861\tD(x): 0.8760\tD(G(z)): 0.0000 / 0.0000\n",
            "[2262/3000][1/4]\tLoss_D: 0.0448\tLoss_G: 7.8533\tD(x): 0.9937\tD(G(z)): 0.0366 / 0.0006\n",
            "[2274/3000][3/4]\tLoss_D: 0.0235\tLoss_G: 6.1670\tD(x): 0.9898\tD(G(z)): 0.0126 / 0.0026\n",
            "[2287/3000][1/4]\tLoss_D: 0.0228\tLoss_G: 5.7853\tD(x): 0.9948\tD(G(z)): 0.0173 / 0.0038\n",
            "[2299/3000][3/4]\tLoss_D: 0.0156\tLoss_G: 5.6769\tD(x): 0.9941\tD(G(z)): 0.0096 / 0.0042\n",
            "[2312/3000][1/4]\tLoss_D: 0.0207\tLoss_G: 7.4120\tD(x): 0.9825\tD(G(z)): 0.0028 / 0.0016\n",
            "[2324/3000][3/4]\tLoss_D: 0.0125\tLoss_G: 6.2891\tD(x): 0.9951\tD(G(z)): 0.0075 / 0.0030\n",
            "[2337/3000][1/4]\tLoss_D: 0.0129\tLoss_G: 6.4580\tD(x): 0.9928\tD(G(z)): 0.0056 / 0.0021\n",
            "[2349/3000][3/4]\tLoss_D: 0.0197\tLoss_G: 5.9177\tD(x): 0.9935\tD(G(z)): 0.0130 / 0.0033\n",
            "[2362/3000][1/4]\tLoss_D: 0.0371\tLoss_G: 7.8189\tD(x): 0.9994\tD(G(z)): 0.0354 / 0.0009\n",
            "[2374/3000][3/4]\tLoss_D: 0.0120\tLoss_G: 5.9619\tD(x): 0.9939\tD(G(z)): 0.0057 / 0.0036\n",
            "[2387/3000][1/4]\tLoss_D: 0.0154\tLoss_G: 6.0849\tD(x): 0.9948\tD(G(z)): 0.0101 / 0.0033\n",
            "[2399/3000][3/4]\tLoss_D: 0.0154\tLoss_G: 6.4960\tD(x): 0.9943\tD(G(z)): 0.0095 / 0.0020\n",
            "[2412/3000][1/4]\tLoss_D: 0.0098\tLoss_G: 6.2558\tD(x): 0.9938\tD(G(z)): 0.0035 / 0.0025\n",
            "[2424/3000][3/4]\tLoss_D: 0.0142\tLoss_G: 5.9155\tD(x): 0.9926\tD(G(z)): 0.0067 / 0.0036\n",
            "[2437/3000][1/4]\tLoss_D: 0.2214\tLoss_G: 23.5318\tD(x): 0.9640\tD(G(z)): 0.0051 / 0.0035\n",
            "[2449/3000][3/4]\tLoss_D: 0.9261\tLoss_G: 18.1481\tD(x): 0.9061\tD(G(z)): 0.0004 / 0.0006\n",
            "[2462/3000][1/4]\tLoss_D: 0.0209\tLoss_G: 7.1978\tD(x): 0.9901\tD(G(z)): 0.0107 / 0.0013\n",
            "[2474/3000][3/4]\tLoss_D: 0.7308\tLoss_G: 6.4241\tD(x): 0.9779\tD(G(z)): 0.0166 / 0.0019\n",
            "[2487/3000][1/4]\tLoss_D: 0.0282\tLoss_G: 7.0340\tD(x): 0.9793\tD(G(z)): 0.0061 / 0.0022\n",
            "[2499/3000][3/4]\tLoss_D: 0.0721\tLoss_G: 3.2311\tD(x): 0.9464\tD(G(z)): 0.0102 / 0.1082\n",
            "[2512/3000][1/4]\tLoss_D: 0.0179\tLoss_G: 5.8707\tD(x): 0.9905\tD(G(z)): 0.0081 / 0.0034\n",
            "[2524/3000][3/4]\tLoss_D: 0.0271\tLoss_G: 5.3792\tD(x): 0.9830\tD(G(z)): 0.0069 / 0.0067\n",
            "[2537/3000][1/4]\tLoss_D: 0.0134\tLoss_G: 6.0045\tD(x): 0.9982\tD(G(z)): 0.0115 / 0.0034\n",
            "[2549/3000][3/4]\tLoss_D: 0.0142\tLoss_G: 5.7387\tD(x): 0.9971\tD(G(z)): 0.0112 / 0.0038\n",
            "[2562/3000][1/4]\tLoss_D: 0.0061\tLoss_G: 6.5446\tD(x): 0.9971\tD(G(z)): 0.0033 / 0.0017\n",
            "[2574/3000][3/4]\tLoss_D: 0.6155\tLoss_G: 5.8800\tD(x): 0.9628\tD(G(z)): 0.0025 / 0.0047\n",
            "[2587/3000][1/4]\tLoss_D: 0.5612\tLoss_G: 6.7324\tD(x): 0.9824\tD(G(z)): 0.0084 / 0.0029\n",
            "[2599/3000][3/4]\tLoss_D: 0.0182\tLoss_G: 5.7393\tD(x): 0.9927\tD(G(z)): 0.0105 / 0.0044\n",
            "[2612/3000][1/4]\tLoss_D: 0.0069\tLoss_G: 5.9524\tD(x): 0.9972\tD(G(z)): 0.0041 / 0.0035\n",
            "[2624/3000][3/4]\tLoss_D: 0.1837\tLoss_G: 34.0125\tD(x): 0.9599\tD(G(z)): 0.0315 / 0.0012\n",
            "[2637/3000][1/4]\tLoss_D: 0.0154\tLoss_G: 6.1220\tD(x): 0.9896\tD(G(z)): 0.0047 / 0.0031\n",
            "[2649/3000][3/4]\tLoss_D: 0.0127\tLoss_G: 6.0681\tD(x): 0.9943\tD(G(z)): 0.0069 / 0.0030\n",
            "[2662/3000][1/4]\tLoss_D: 0.0144\tLoss_G: 5.9661\tD(x): 0.9953\tD(G(z)): 0.0095 / 0.0034\n",
            "[2674/3000][3/4]\tLoss_D: 0.0428\tLoss_G: 7.4296\tD(x): 0.9987\tD(G(z)): 0.0397 / 0.0060\n",
            "[2687/3000][1/4]\tLoss_D: 0.0186\tLoss_G: 6.6581\tD(x): 0.9916\tD(G(z)): 0.0098 / 0.0020\n",
            "[2699/3000][3/4]\tLoss_D: 0.0190\tLoss_G: 6.0919\tD(x): 0.9914\tD(G(z)): 0.0101 / 0.0034\n",
            "[2712/3000][1/4]\tLoss_D: 0.0051\tLoss_G: 6.5959\tD(x): 0.9982\tD(G(z)): 0.0033 / 0.0019\n",
            "[2724/3000][3/4]\tLoss_D: 0.0092\tLoss_G: 6.2841\tD(x): 0.9973\tD(G(z)): 0.0064 / 0.0029\n",
            "[2737/3000][1/4]\tLoss_D: 0.0119\tLoss_G: 5.8487\tD(x): 0.9992\tD(G(z)): 0.0110 / 0.0039\n",
            "[2749/3000][3/4]\tLoss_D: 0.0183\tLoss_G: 6.3280\tD(x): 0.9991\tD(G(z)): 0.0170 / 0.0026\n",
            "[2762/3000][1/4]\tLoss_D: 0.0088\tLoss_G: 5.9502\tD(x): 0.9951\tD(G(z)): 0.0038 / 0.0032\n",
            "[2774/3000][3/4]\tLoss_D: 0.0116\tLoss_G: 5.7920\tD(x): 0.9944\tD(G(z)): 0.0059 / 0.0039\n",
            "[2787/3000][1/4]\tLoss_D: 0.0065\tLoss_G: 5.7395\tD(x): 0.9995\tD(G(z)): 0.0059 / 0.0040\n",
            "[2799/3000][3/4]\tLoss_D: 0.0072\tLoss_G: 6.9078\tD(x): 0.9955\tD(G(z)): 0.0026 / 0.0021\n",
            "[2812/3000][1/4]\tLoss_D: 0.0078\tLoss_G: 6.3345\tD(x): 0.9953\tD(G(z)): 0.0030 / 0.0024\n",
            "[2824/3000][3/4]\tLoss_D: 0.0056\tLoss_G: 7.3698\tD(x): 0.9963\tD(G(z)): 0.0019 / 0.0011\n",
            "[2837/3000][1/4]\tLoss_D: 0.0278\tLoss_G: 7.3325\tD(x): 0.9969\tD(G(z)): 0.0239 / 0.0026\n",
            "[2849/3000][3/4]\tLoss_D: 0.0407\tLoss_G: 5.6895\tD(x): 0.9773\tD(G(z)): 0.0017 / 0.0055\n",
            "[2862/3000][1/4]\tLoss_D: 0.0123\tLoss_G: 6.1138\tD(x): 0.9916\tD(G(z)): 0.0035 / 0.0048\n",
            "[2874/3000][3/4]\tLoss_D: 0.0085\tLoss_G: 6.3975\tD(x): 0.9956\tD(G(z)): 0.0040 / 0.0024\n",
            "[2887/3000][1/4]\tLoss_D: 0.0057\tLoss_G: 7.1267\tD(x): 0.9964\tD(G(z)): 0.0021 / 0.0012\n",
            "[2899/3000][3/4]\tLoss_D: 0.0085\tLoss_G: 7.0519\tD(x): 0.9934\tD(G(z)): 0.0018 / 0.0025\n",
            "[2912/3000][1/4]\tLoss_D: 0.0144\tLoss_G: 7.0918\tD(x): 0.9983\tD(G(z)): 0.0126 / 0.0012\n",
            "[2924/3000][3/4]\tLoss_D: 0.0039\tLoss_G: 6.9320\tD(x): 0.9988\tD(G(z)): 0.0027 / 0.0014\n",
            "[2937/3000][1/4]\tLoss_D: 0.0031\tLoss_G: 7.1034\tD(x): 0.9985\tD(G(z)): 0.0016 / 0.0011\n",
            "[2949/3000][3/4]\tLoss_D: 0.0036\tLoss_G: 7.0772\tD(x): 0.9991\tD(G(z)): 0.0026 / 0.0012\n",
            "[2962/3000][1/4]\tLoss_D: 0.0034\tLoss_G: 7.0668\tD(x): 0.9986\tD(G(z)): 0.0020 / 0.0011\n",
            "[2974/3000][3/4]\tLoss_D: 0.0029\tLoss_G: 6.9088\tD(x): 0.9995\tD(G(z)): 0.0024 / 0.0013\n",
            "[2987/3000][1/4]\tLoss_D: 0.0128\tLoss_G: 6.6507\tD(x): 0.9965\tD(G(z)): 0.0092 / 0.0021\n",
            "[2999/3000][3/4]\tLoss_D: 0.0171\tLoss_G: 14.8482\tD(x): 0.9908\tD(G(z)): 0.0073 / 0.0005\n"
          ]
        }
      ]
    },
    {
      "cell_type": "markdown",
      "source": [
        "TRAINING MLP"
      ],
      "metadata": {
        "id": "yOrRm4NjOjpf"
      }
    },
    {
      "cell_type": "code",
      "source": [
        "mlp_history = mlp_model.fit(\n",
        "    train_generator,\n",
        "    steps_per_epoch=train_generator.samples // train_generator.batch_size,\n",
        "    epochs=10,\n",
        "    validation_data=validation_generator,\n",
        "    validation_steps=validation_generator.samples // validation_generator.batch_size\n",
        ")\n"
      ],
      "metadata": {
        "colab": {
          "base_uri": "https://localhost:8080/"
        },
        "id": "bPbOUcbbD9lA",
        "outputId": "58ea0de1-1681-4e25-a99b-afba3d366f2f"
      },
      "execution_count": null,
      "outputs": [
        {
          "output_type": "stream",
          "name": "stdout",
          "text": [
            "The directory /extracted_files/DCGAN_results_epoch_300/yes/ exists.\n",
            "The total number of images in the directory is 64.\n"
          ]
        }
      ]
    },
    {
      "cell_type": "code",
      "source": [
        "import os\n",
        "import torch\n",
        "import torchvision.utils as vutils\n",
        "\n",
        "# Define the output directory\n",
        "output_directory = '/extracted_files/yes/'\n",
        "\n",
        "# Check if the directory exists, if not, create it\n",
        "if not os.path.exists(output_directory):\n",
        "    os.makedirs(output_directory)\n",
        "\n",
        "# Number of images to generate\n",
        "num_images_to_generate = 1500\n",
        "\n",
        "# Generate the images and save them\n",
        "for i in range(num_images_to_generate):\n",
        "    noise = torch.randn(1, nz, 1, 1, device=device)  # Generate noise for a single image\n",
        "    fake_image = netG(noise)  # Generate the image using the trained generator\n",
        "\n",
        "    # Save the image\n",
        "    vutils.save_image(fake_image.detach(), f'{output_directory}/fake_sample_{i + 1}.png', normalize=True)\n",
        "\n",
        "    if (i + 1) % 50 == 0:\n",
        "        print(f'Generated {i + 1}/{num_images_to_generate} images.')\n",
        "\n",
        "print(f\"Generated {num_images_to_generate} images and saved them in {output_directory}.\")\n"
      ],
      "metadata": {
        "colab": {
          "base_uri": "https://localhost:8080/"
        },
        "id": "neaNs8QAEAzQ",
        "outputId": "c6aeb861-380a-45f4-ad74-7328904739c4"
      },
      "execution_count": null,
      "outputs": [
        {
          "output_type": "stream",
          "name": "stdout",
          "text": [
            "Generated 50/1500 images.\n",
            "Generated 100/1500 images.\n",
            "Generated 150/1500 images.\n",
            "Generated 200/1500 images.\n",
            "Generated 250/1500 images.\n",
            "Generated 300/1500 images.\n",
            "Generated 350/1500 images.\n",
            "Generated 400/1500 images.\n",
            "Generated 450/1500 images.\n",
            "Generated 500/1500 images.\n",
            "Generated 550/1500 images.\n",
            "Generated 600/1500 images.\n",
            "Generated 650/1500 images.\n",
            "Generated 700/1500 images.\n",
            "Generated 750/1500 images.\n",
            "Generated 800/1500 images.\n",
            "Generated 850/1500 images.\n",
            "Generated 900/1500 images.\n",
            "Generated 950/1500 images.\n",
            "Generated 1000/1500 images.\n",
            "Generated 1050/1500 images.\n",
            "Generated 1100/1500 images.\n",
            "Generated 1150/1500 images.\n",
            "Generated 1200/1500 images.\n",
            "Generated 1250/1500 images.\n",
            "Generated 1300/1500 images.\n",
            "Generated 1350/1500 images.\n",
            "Generated 1400/1500 images.\n",
            "Generated 1450/1500 images.\n",
            "Generated 1500/1500 images.\n",
            "Generated 1500 images and saved them in /extracted_files/yes/.\n"
          ]
        }
      ]
    },
    {
      "cell_type": "code",
      "source": [
        "import os\n",
        "import matplotlib.pyplot as plt\n",
        "import matplotlib.image as mpimg\n",
        "import random\n",
        "\n",
        "# Define the output directory\n",
        "output_directory = '/extracted_files/yes/'\n",
        "\n",
        "# Check if the directory exists\n",
        "if os.path.exists(output_directory):\n",
        "    # List all files in the directory\n",
        "    files = os.listdir(output_directory)\n",
        "    print(f\"Total number of files in the directory: {len(files)}\")\n",
        "    print(f\"First 10 files in the directory: {files[:10]}\")  # Print the first 10 filenames for inspection\n",
        "\n",
        "    # Select two random files from the list\n",
        "    image_files = random.sample(files, 2)  # Randomly pick two files\n",
        "\n",
        "    # Set up the plot to display the two images\n",
        "    fig, axes = plt.subplots(1, 2, figsize=(10, 5))\n",
        "\n",
        "    for i, image_file in enumerate(image_files):\n",
        "        # Load the image\n",
        "        img_path = os.path.join(output_directory, image_file)\n",
        "        img = mpimg.imread(img_path)\n",
        "\n",
        "        # Display the image\n",
        "        axes[i].imshow(img)\n",
        "        axes[i].axis('off')  # Turn off axis\n",
        "        axes[i].set_title(f\"Image: {image_file}\")  # Set the title to the image filename\n",
        "\n",
        "    plt.show()  # Show the plot\n",
        "else:\n",
        "    print(f\"The directory {output_directory} does not exist.\")\n"
      ],
      "metadata": {
        "colab": {
          "base_uri": "https://localhost:8080/",
          "height": 466
        },
        "id": "6w4qOGqvEDDY",
        "outputId": "2659c3a0-8f75-4b69-d799-9a2db0ec263c"
      },
      "execution_count": null,
      "outputs": [
        {
          "output_type": "stream",
          "name": "stdout",
          "text": [
            "Total number of files in the directory: 1500\n",
            "First 10 files in the directory: ['fake_sample_1105.png', 'fake_sample_1095.png', 'fake_sample_1093.png', 'fake_sample_266.png', 'fake_sample_1232.png', 'fake_sample_1065.png', 'fake_sample_263.png', 'fake_sample_1042.png', 'fake_sample_200.png', 'fake_sample_688.png']\n"
          ]
        },
        {
          "output_type": "display_data",
          "data": {
            "text/plain": [
              "<Figure size 1000x500 with 2 Axes>"
            ],
            "image/png": "[encoded data removed]"
          },
          "metadata": {}
        }
      ]
    },
    {
      "cell_type": "code",
      "source": [
        "dataroot = \"extarcted_files/no\"\n",
        "\n",
        "workers = 2\n",
        "batch_size = 64\n",
        "image_size = 64\n",
        "nc = 3\n",
        "nz = 100\n",
        "ngf = 64\n",
        "ndf = 64\n",
        "num_epochs = 2000\n",
        "lr = 0.0002\n",
        "beta1 = 0.5\n",
        "ngpu = 1\n",
        "img_list = []\n",
        "G_losses = []\n",
        "D_losses = []\n",
        "iters = 0\n",
        "\n",
        "print(\"Starting Training Loop...\")\n",
        "for epoch in range(num_epochs):\n",
        "    for i, data in enumerate(dataloader, 0):\n",
        "        netD.zero_grad()\n",
        "        real_cpu = data[0].to(device)\n",
        "        b_size = real_cpu.size(0)\n",
        "        label = torch.full((b_size,), real_label, dtype=torch.float, device=device)\n",
        "        output = netD(real_cpu).view(-1)\n",
        "        errD_real = criterion(output, label)\n",
        "        errD_real.backward()\n",
        "        D_x = output.mean().item()\n",
        "\n",
        "        noise = torch.randn(b_size, nz, 1, 1, device=device)\n",
        "        fake = netG(noise)\n",
        "        label.fill_(fake_label)\n",
        "        output = netD(fake.detach()).view(-1)\n",
        "        errD_fake = criterion(output, label)\n",
        "        errD_fake.backward()\n",
        "        D_G_z1 = output.mean().item()\n",
        "        errD = errD_real + errD_fake\n",
        "        optimizerD.step()\n",
        "\n",
        "        netG.zero_grad()\n",
        "        label.fill_(real_label)\n",
        "        output = netD(fake).view(-1)\n",
        "        errG = criterion(output, label)\n",
        "        errG.backward()\n",
        "        D_G_z2 = output.mean().item()\n",
        "        optimizerG.step()\n",
        "\n",
        "        iters += 1\n",
        "\n",
        "        if iters % 50 == 0:\n",
        "            print('[%d/%d][%d/%d]\\tLoss_D: %.4f\\tLoss_G: %.4f\\tD(x): %.4f\\tD(G(z)): %.4f / %.4f'\n",
        "                  % (epoch, num_epochs, i, len(dataloader),\n",
        "                     errD.item(), errG.item(), D_x, D_G_z1, D_G_z2))\n",
        "\n",
        "        G_losses.append(errG.item())\n",
        "        D_losses.append(errD.item())\n",
        "\n",
        "        if (epoch == 300):\n",
        "            with torch.no_grad():\n",
        "                fake = netG(fixed_noise).detach().cpu()\n",
        "            img_list.append(vutils.make_grid(fake, padding=2, normalize=True))\n",
        "\n",
        "            output_path = '/extracted_files/DCGAN_results_epoch_300/no/'\n",
        "            if not os.path.exists(output_path):\n",
        "                os.makedirs(output_path)\n",
        "\n",
        "            for i in range(64):\n",
        "                vutils.save_image(fake[i], '%s/fake_samples_epoch_300_%d.png' %\n",
        "                                  (output_path, i), normalize=True)"
      ],
      "metadata": {
        "colab": {
          "base_uri": "https://localhost:8080/"
        },
        "id": "nzSWVOW8EFWA",
        "outputId": "dfd5bdd7-d5ff-431a-ab5b-83c0bac661fc"
      },
      "execution_count": null,
      "outputs": [
        {
          "output_type": "stream",
          "name": "stdout",
          "text": [
            "Starting Training Loop...\n",
            "[12/2000][1/4]\tLoss_D: 0.0850\tLoss_G: 20.6446\tD(x): 0.9422\tD(G(z)): 0.0029 / 0.0002\n",
            "[24/2000][3/4]\tLoss_D: 0.0286\tLoss_G: 6.8818\tD(x): 0.9956\tD(G(z)): 0.0235 / 0.0024\n",
            "[37/2000][1/4]\tLoss_D: 0.0116\tLoss_G: 7.7933\tD(x): 0.9978\tD(G(z)): 0.0092 / 0.0015\n",
            "[49/2000][3/4]\tLoss_D: 0.0230\tLoss_G: 6.1268\tD(x): 0.9843\tD(G(z)): 0.0067 / 0.0032\n",
            "[62/2000][1/4]\tLoss_D: 0.0198\tLoss_G: 5.9770\tD(x): 0.9950\tD(G(z)): 0.0146 / 0.0032\n",
            "[74/2000][3/4]\tLoss_D: 0.0194\tLoss_G: 6.3281\tD(x): 0.9968\tD(G(z)): 0.0159 / 0.0027\n",
            "[87/2000][1/4]\tLoss_D: 0.0120\tLoss_G: 6.0217\tD(x): 0.9975\tD(G(z)): 0.0094 / 0.0030\n",
            "[99/2000][3/4]\tLoss_D: 0.0120\tLoss_G: 6.2763\tD(x): 0.9931\tD(G(z)): 0.0049 / 0.0022\n",
            "[112/2000][1/4]\tLoss_D: 0.0598\tLoss_G: 7.3528\tD(x): 0.9639\tD(G(z)): 0.0013 / 0.0021\n",
            "[124/2000][3/4]\tLoss_D: 0.0151\tLoss_G: 6.4912\tD(x): 0.9984\tD(G(z)): 0.0129 / 0.0030\n",
            "[137/2000][1/4]\tLoss_D: 0.0081\tLoss_G: 6.5588\tD(x): 0.9935\tD(G(z)): 0.0013 / 0.0017\n",
            "[149/2000][3/4]\tLoss_D: 0.0183\tLoss_G: 6.3530\tD(x): 0.9984\tD(G(z)): 0.0163 / 0.0024\n",
            "[162/2000][1/4]\tLoss_D: 0.0062\tLoss_G: 7.6017\tD(x): 0.9951\tD(G(z)): 0.0012 / 0.0009\n",
            "[174/2000][3/4]\tLoss_D: 0.0090\tLoss_G: 6.8320\tD(x): 0.9937\tD(G(z)): 0.0026 / 0.0015\n",
            "[187/2000][1/4]\tLoss_D: 0.0068\tLoss_G: 9.8529\tD(x): 0.9938\tD(G(z)): 0.0004 / 0.0001\n",
            "[199/2000][3/4]\tLoss_D: 1.9818\tLoss_G: 16.9759\tD(x): 0.4707\tD(G(z)): 0.0017 / 0.7207\n",
            "[212/2000][1/4]\tLoss_D: 0.0052\tLoss_G: 24.6175\tD(x): 0.9997\tD(G(z)): 0.0049 / 0.0018\n",
            "[224/2000][3/4]\tLoss_D: 0.0301\tLoss_G: 24.9633\tD(x): 0.9766\tD(G(z)): 0.0033 / 0.0009\n",
            "[237/2000][1/4]\tLoss_D: 0.0314\tLoss_G: 14.9909\tD(x): 0.9986\tD(G(z)): 0.0276 / 0.0004\n",
            "[249/2000][3/4]\tLoss_D: 0.0144\tLoss_G: 6.8978\tD(x): 0.9916\tD(G(z)): 0.0057 / 0.0014\n",
            "[262/2000][1/4]\tLoss_D: 0.1075\tLoss_G: 16.5171\tD(x): 0.9843\tD(G(z)): 0.0058 / 0.0039\n",
            "[274/2000][3/4]\tLoss_D: 0.0113\tLoss_G: 6.2722\tD(x): 0.9925\tD(G(z)): 0.0037 / 0.0034\n",
            "[287/2000][1/4]\tLoss_D: 0.0060\tLoss_G: 7.0826\tD(x): 0.9964\tD(G(z)): 0.0023 / 0.0014\n",
            "[299/2000][3/4]\tLoss_D: 0.0166\tLoss_G: 5.9871\tD(x): 0.9909\tD(G(z)): 0.0073 / 0.0038\n",
            "[312/2000][1/4]\tLoss_D: 0.0160\tLoss_G: 6.9090\tD(x): 0.9925\tD(G(z)): 0.0080 / 0.0024\n",
            "[324/2000][3/4]\tLoss_D: 0.0153\tLoss_G: 5.7399\tD(x): 0.9918\tD(G(z)): 0.0069 / 0.0043\n",
            "[337/2000][1/4]\tLoss_D: 0.0075\tLoss_G: 6.4315\tD(x): 0.9955\tD(G(z)): 0.0030 / 0.0022\n",
            "[349/2000][3/4]\tLoss_D: 0.0066\tLoss_G: 6.4186\tD(x): 0.9969\tD(G(z)): 0.0034 / 0.0023\n",
            "[362/2000][1/4]\tLoss_D: 0.0086\tLoss_G: 7.3540\tD(x): 0.9936\tD(G(z)): 0.0021 / 0.0010\n",
            "[374/2000][3/4]\tLoss_D: 0.0194\tLoss_G: 5.9841\tD(x): 0.9857\tD(G(z)): 0.0046 / 0.0038\n",
            "[387/2000][1/4]\tLoss_D: 0.0123\tLoss_G: 6.4811\tD(x): 0.9932\tD(G(z)): 0.0053 / 0.0026\n",
            "[399/2000][3/4]\tLoss_D: 0.0159\tLoss_G: 7.6490\tD(x): 0.9996\tD(G(z)): 0.0153 / 0.0015\n",
            "[412/2000][1/4]\tLoss_D: 0.0056\tLoss_G: 7.1785\tD(x): 0.9993\tD(G(z)): 0.0048 / 0.0013\n",
            "[424/2000][3/4]\tLoss_D: 0.0932\tLoss_G: 30.4042\tD(x): 0.9651\tD(G(z)): 0.0000 / 0.0000\n",
            "[437/2000][1/4]\tLoss_D: 0.0448\tLoss_G: 8.1857\tD(x): 0.9853\tD(G(z)): 0.0270 / 0.0010\n",
            "[449/2000][3/4]\tLoss_D: 0.0142\tLoss_G: 6.7184\tD(x): 0.9912\tD(G(z)): 0.0052 / 0.0019\n",
            "[462/2000][1/4]\tLoss_D: 0.0204\tLoss_G: 6.2915\tD(x): 0.9908\tD(G(z)): 0.0109 / 0.0026\n",
            "[474/2000][3/4]\tLoss_D: 0.0183\tLoss_G: 6.2546\tD(x): 0.9960\tD(G(z)): 0.0140 / 0.0029\n",
            "[487/2000][1/4]\tLoss_D: 0.0264\tLoss_G: 5.5683\tD(x): 0.9812\tD(G(z)): 0.0069 / 0.0059\n",
            "[499/2000][3/4]\tLoss_D: 0.0142\tLoss_G: 6.4499\tD(x): 0.9901\tD(G(z)): 0.0034 / 0.0024\n",
            "[512/2000][1/4]\tLoss_D: 0.0073\tLoss_G: 7.4907\tD(x): 0.9975\tD(G(z)): 0.0047 / 0.0015\n",
            "[524/2000][3/4]\tLoss_D: 0.0150\tLoss_G: 6.0817\tD(x): 0.9934\tD(G(z)): 0.0082 / 0.0036\n",
            "[537/2000][1/4]\tLoss_D: 0.0073\tLoss_G: 6.6030\tD(x): 0.9962\tD(G(z)): 0.0035 / 0.0020\n",
            "[549/2000][3/4]\tLoss_D: 0.0052\tLoss_G: 6.5525\tD(x): 0.9980\tD(G(z)): 0.0032 / 0.0019\n",
            "[562/2000][1/4]\tLoss_D: 0.0122\tLoss_G: 6.0263\tD(x): 0.9953\tD(G(z)): 0.0074 / 0.0030\n",
            "[574/2000][3/4]\tLoss_D: 0.0068\tLoss_G: 6.4150\tD(x): 0.9981\tD(G(z)): 0.0049 / 0.0023\n",
            "[587/2000][1/4]\tLoss_D: 0.0092\tLoss_G: 6.0552\tD(x): 0.9987\tD(G(z)): 0.0078 / 0.0030\n",
            "[599/2000][3/4]\tLoss_D: 0.0137\tLoss_G: 5.8859\tD(x): 0.9911\tD(G(z)): 0.0042 / 0.0049\n",
            "[612/2000][1/4]\tLoss_D: 0.0081\tLoss_G: 6.0888\tD(x): 0.9959\tD(G(z)): 0.0040 / 0.0034\n",
            "[624/2000][3/4]\tLoss_D: 0.0031\tLoss_G: 7.0321\tD(x): 0.9993\tD(G(z)): 0.0024 / 0.0012\n",
            "[637/2000][1/4]\tLoss_D: 0.0071\tLoss_G: 11.0630\tD(x): 0.9946\tD(G(z)): 0.0013 / 0.0009\n",
            "[649/2000][3/4]\tLoss_D: 0.0023\tLoss_G: 7.2536\tD(x): 0.9991\tD(G(z)): 0.0014 / 0.0010\n",
            "[662/2000][1/4]\tLoss_D: 0.0079\tLoss_G: 6.3288\tD(x): 0.9964\tD(G(z)): 0.0043 / 0.0030\n",
            "[674/2000][3/4]\tLoss_D: 0.0024\tLoss_G: 7.0952\tD(x): 0.9994\tD(G(z)): 0.0018 / 0.0012\n",
            "[687/2000][1/4]\tLoss_D: 0.0115\tLoss_G: 6.4446\tD(x): 0.9966\tD(G(z)): 0.0081 / 0.0024\n",
            "[699/2000][3/4]\tLoss_D: 0.4717\tLoss_G: 16.8168\tD(x): 0.9805\tD(G(z)): 0.0529 / 0.0001\n",
            "[712/2000][1/4]\tLoss_D: 0.0291\tLoss_G: 15.5301\tD(x): 0.9733\tD(G(z)): 0.0002 / 0.0000\n",
            "[724/2000][3/4]\tLoss_D: 0.0115\tLoss_G: 7.1452\tD(x): 0.9955\tD(G(z)): 0.0070 / 0.0013\n",
            "[737/2000][1/4]\tLoss_D: 0.0043\tLoss_G: 8.2701\tD(x): 0.9980\tD(G(z)): 0.0023 / 0.0007\n",
            "[749/2000][3/4]\tLoss_D: 0.0092\tLoss_G: 6.6383\tD(x): 0.9976\tD(G(z)): 0.0067 / 0.0019\n",
            "[762/2000][1/4]\tLoss_D: 0.0095\tLoss_G: 6.1978\tD(x): 0.9952\tD(G(z)): 0.0046 / 0.0034\n",
            "[774/2000][3/4]\tLoss_D: 0.0065\tLoss_G: 6.2651\tD(x): 0.9976\tD(G(z)): 0.0040 / 0.0028\n",
            "[787/2000][1/4]\tLoss_D: 0.0411\tLoss_G: 7.3283\tD(x): 0.9650\tD(G(z)): 0.0034 / 0.0008\n",
            "[799/2000][3/4]\tLoss_D: 0.0145\tLoss_G: 6.0805\tD(x): 0.9936\tD(G(z)): 0.0080 / 0.0028\n",
            "[812/2000][1/4]\tLoss_D: 0.0189\tLoss_G: 5.7765\tD(x): 0.9869\tD(G(z)): 0.0054 / 0.0037\n",
            "[824/2000][3/4]\tLoss_D: 0.0171\tLoss_G: 5.7756\tD(x): 0.9892\tD(G(z)): 0.0058 / 0.0039\n",
            "[837/2000][1/4]\tLoss_D: 0.0251\tLoss_G: 6.0787\tD(x): 0.9796\tD(G(z)): 0.0032 / 0.0052\n",
            "[849/2000][3/4]\tLoss_D: 0.0041\tLoss_G: 7.5209\tD(x): 0.9975\tD(G(z)): 0.0016 / 0.0008\n",
            "[862/2000][1/4]\tLoss_D: 0.0181\tLoss_G: 5.9096\tD(x): 0.9935\tD(G(z)): 0.0114 / 0.0041\n",
            "[874/2000][3/4]\tLoss_D: 0.0073\tLoss_G: 6.9390\tD(x): 0.9952\tD(G(z)): 0.0025 / 0.0012\n",
            "[887/2000][1/4]\tLoss_D: 0.0041\tLoss_G: 6.8103\tD(x): 0.9985\tD(G(z)): 0.0026 / 0.0016\n",
            "[899/2000][3/4]\tLoss_D: 0.0116\tLoss_G: 6.5066\tD(x): 0.9924\tD(G(z)): 0.0038 / 0.0031\n",
            "[912/2000][1/4]\tLoss_D: 0.0102\tLoss_G: 6.5411\tD(x): 0.9926\tD(G(z)): 0.0027 / 0.0021\n",
            "[924/2000][3/4]\tLoss_D: 0.0062\tLoss_G: 6.8592\tD(x): 0.9953\tD(G(z)): 0.0015 / 0.0014\n",
            "[937/2000][1/4]\tLoss_D: 0.0085\tLoss_G: 6.3405\tD(x): 0.9963\tD(G(z)): 0.0048 / 0.0034\n",
            "[949/2000][3/4]\tLoss_D: 0.0067\tLoss_G: 6.7726\tD(x): 0.9963\tD(G(z)): 0.0029 / 0.0022\n",
            "[962/2000][1/4]\tLoss_D: 0.0064\tLoss_G: 6.3519\tD(x): 0.9995\tD(G(z)): 0.0059 / 0.0025\n",
            "[974/2000][3/4]\tLoss_D: 0.0028\tLoss_G: 7.3875\tD(x): 0.9990\tD(G(z)): 0.0018 / 0.0013\n",
            "[987/2000][1/4]\tLoss_D: 0.0048\tLoss_G: 6.7881\tD(x): 0.9970\tD(G(z)): 0.0018 / 0.0019\n",
            "[999/2000][3/4]\tLoss_D: 0.0035\tLoss_G: 7.1449\tD(x): 0.9976\tD(G(z)): 0.0011 / 0.0010\n",
            "[1012/2000][1/4]\tLoss_D: 0.0026\tLoss_G: 6.8936\tD(x): 0.9990\tD(G(z)): 0.0016 / 0.0014\n",
            "[1024/2000][3/4]\tLoss_D: 0.0094\tLoss_G: 7.1537\tD(x): 0.9956\tD(G(z)): 0.0048 / 0.0012\n",
            "[1037/2000][1/4]\tLoss_D: 0.0066\tLoss_G: 6.8165\tD(x): 0.9982\tD(G(z)): 0.0048 / 0.0016\n",
            "[1049/2000][3/4]\tLoss_D: 12.4433\tLoss_G: 21.2938\tD(x): 0.0961\tD(G(z)): 0.0005 / 0.7556\n",
            "[1062/2000][1/4]\tLoss_D: 0.0122\tLoss_G: 23.0012\tD(x): 0.9997\tD(G(z)): 0.0117 / 0.0013\n",
            "[1074/2000][3/4]\tLoss_D: 0.0787\tLoss_G: 20.7426\tD(x): 0.9897\tD(G(z)): 0.0597 / 0.0001\n",
            "[1087/2000][1/4]\tLoss_D: 0.0121\tLoss_G: 6.1605\tD(x): 0.9920\tD(G(z)): 0.0037 / 0.0025\n",
            "[1099/2000][3/4]\tLoss_D: 0.0110\tLoss_G: 6.6435\tD(x): 0.9933\tD(G(z)): 0.0042 / 0.0018\n",
            "[1112/2000][1/4]\tLoss_D: 0.0064\tLoss_G: 12.3870\tD(x): 0.9943\tD(G(z)): 0.0006 / 0.0001\n",
            "[1124/2000][3/4]\tLoss_D: 0.0065\tLoss_G: 6.9252\tD(x): 0.9979\tD(G(z)): 0.0044 / 0.0017\n",
            "[1137/2000][1/4]\tLoss_D: 0.0412\tLoss_G: 13.8750\tD(x): 0.9933\tD(G(z)): 0.0325 / 0.0009\n",
            "[1149/2000][3/4]\tLoss_D: 0.0147\tLoss_G: 6.5402\tD(x): 0.9936\tD(G(z)): 0.0079 / 0.0018\n",
            "[1162/2000][1/4]\tLoss_D: 0.0071\tLoss_G: 5.8617\tD(x): 0.9994\tD(G(z)): 0.0064 / 0.0039\n",
            "[1174/2000][3/4]\tLoss_D: 0.0053\tLoss_G: 6.7111\tD(x): 0.9980\tD(G(z)): 0.0033 / 0.0016\n",
            "[1187/2000][1/4]\tLoss_D: 0.0023\tLoss_G: 6.9490\tD(x): 0.9995\tD(G(z)): 0.0018 / 0.0013\n",
            "[1199/2000][3/4]\tLoss_D: 0.0106\tLoss_G: 6.0192\tD(x): 0.9989\tD(G(z)): 0.0094 / 0.0034\n",
            "[1212/2000][1/4]\tLoss_D: 0.0059\tLoss_G: 6.4089\tD(x): 0.9978\tD(G(z)): 0.0037 / 0.0024\n",
            "[1224/2000][3/4]\tLoss_D: 0.0090\tLoss_G: 6.9929\tD(x): 0.9938\tD(G(z)): 0.0028 / 0.0014\n",
            "[1237/2000][1/4]\tLoss_D: 0.7360\tLoss_G: 7.4306\tD(x): 0.9811\tD(G(z)): 0.0081 / 0.0010\n",
            "[1249/2000][3/4]\tLoss_D: 0.5963\tLoss_G: 6.5166\tD(x): 0.9829\tD(G(z)): 0.0123 / 0.0030\n",
            "[1262/2000][1/4]\tLoss_D: 1.2233\tLoss_G: 6.6003\tD(x): 0.9661\tD(G(z)): 0.0041 / 0.0025\n",
            "[1274/2000][3/4]\tLoss_D: 0.0096\tLoss_G: 6.9536\tD(x): 0.9924\tD(G(z)): 0.0015 / 0.0019\n",
            "[1287/2000][1/4]\tLoss_D: 0.6114\tLoss_G: 6.7149\tD(x): 0.9825\tD(G(z)): 0.0022 / 0.0022\n",
            "[1299/2000][3/4]\tLoss_D: 0.0069\tLoss_G: 6.5127\tD(x): 0.9981\tD(G(z)): 0.0050 / 0.0025\n",
            "[1312/2000][1/4]\tLoss_D: 0.0066\tLoss_G: 6.3578\tD(x): 0.9979\tD(G(z)): 0.0044 / 0.0024\n",
            "[1324/2000][3/4]\tLoss_D: 0.0072\tLoss_G: 5.9533\tD(x): 0.9988\tD(G(z)): 0.0060 / 0.0033\n",
            "[1337/2000][1/4]\tLoss_D: 0.0023\tLoss_G: 7.7322\tD(x): 0.9988\tD(G(z)): 0.0011 / 0.0007\n",
            "[1349/2000][3/4]\tLoss_D: 0.0153\tLoss_G: 6.4829\tD(x): 0.9888\tD(G(z)): 0.0027 / 0.0032\n",
            "[1362/2000][1/4]\tLoss_D: 0.0059\tLoss_G: 6.6789\tD(x): 0.9989\tD(G(z)): 0.0047 / 0.0021\n",
            "[1374/2000][3/4]\tLoss_D: 0.0064\tLoss_G: 6.7808\tD(x): 0.9982\tD(G(z)): 0.0046 / 0.0020\n",
            "[1387/2000][1/4]\tLoss_D: 0.0062\tLoss_G: 7.6133\tD(x): 0.9949\tD(G(z)): 0.0011 / 0.0010\n",
            "[1399/2000][3/4]\tLoss_D: 0.0106\tLoss_G: 6.2026\tD(x): 0.9927\tD(G(z)): 0.0031 / 0.0031\n",
            "[1412/2000][1/4]\tLoss_D: 0.0093\tLoss_G: 6.3060\tD(x): 0.9969\tD(G(z)): 0.0061 / 0.0032\n",
            "[1424/2000][3/4]\tLoss_D: 0.0103\tLoss_G: 6.2809\tD(x): 0.9928\tD(G(z)): 0.0029 / 0.0025\n",
            "[1437/2000][1/4]\tLoss_D: 0.0031\tLoss_G: 6.8691\tD(x): 0.9990\tD(G(z)): 0.0020 / 0.0015\n",
            "[1449/2000][3/4]\tLoss_D: 0.0053\tLoss_G: 6.8512\tD(x): 0.9972\tD(G(z)): 0.0024 / 0.0018\n",
            "[1462/2000][1/4]\tLoss_D: 0.0031\tLoss_G: 6.8997\tD(x): 0.9983\tD(G(z)): 0.0014 / 0.0012\n",
            "[1474/2000][3/4]\tLoss_D: 0.0028\tLoss_G: 7.9082\tD(x): 0.9979\tD(G(z)): 0.0007 / 0.0007\n",
            "[1487/2000][1/4]\tLoss_D: 0.0038\tLoss_G: 19.5863\tD(x): 0.9975\tD(G(z)): 0.0013 / 0.0005\n",
            "[1499/2000][3/4]\tLoss_D: 0.0089\tLoss_G: 6.5997\tD(x): 0.9989\tD(G(z)): 0.0077 / 0.0019\n",
            "[1512/2000][1/4]\tLoss_D: 0.0029\tLoss_G: 7.0968\tD(x): 0.9995\tD(G(z)): 0.0024 / 0.0013\n",
            "[1524/2000][3/4]\tLoss_D: 0.0018\tLoss_G: 7.0493\tD(x): 0.9998\tD(G(z)): 0.0016 / 0.0011\n",
            "[1537/2000][1/4]\tLoss_D: 0.0045\tLoss_G: 6.9617\tD(x): 0.9998\tD(G(z)): 0.0043 / 0.0020\n",
            "[1549/2000][3/4]\tLoss_D: 0.0051\tLoss_G: 6.5038\tD(x): 0.9986\tD(G(z)): 0.0036 / 0.0018\n",
            "[1562/2000][1/4]\tLoss_D: 0.0052\tLoss_G: 7.1141\tD(x): 0.9991\tD(G(z)): 0.0042 / 0.0017\n",
            "[1574/2000][3/4]\tLoss_D: 0.0034\tLoss_G: 8.8123\tD(x): 0.9983\tD(G(z)): 0.0017 / 0.0004\n",
            "[1587/2000][1/4]\tLoss_D: 0.0052\tLoss_G: 7.4022\tD(x): 0.9974\tD(G(z)): 0.0025 / 0.0015\n",
            "[1599/2000][3/4]\tLoss_D: 1.0377\tLoss_G: 37.1248\tD(x): 0.7389\tD(G(z)): 0.0000 / 0.0043\n",
            "[1612/2000][1/4]\tLoss_D: 0.0053\tLoss_G: 12.3188\tD(x): 0.9970\tD(G(z)): 0.0023 / 0.0008\n",
            "[1624/2000][3/4]\tLoss_D: 0.0004\tLoss_G: 21.4151\tD(x): 1.0000\tD(G(z)): 0.0003 / 0.0002\n",
            "[1637/2000][1/4]\tLoss_D: 0.0039\tLoss_G: 7.0792\tD(x): 0.9984\tD(G(z)): 0.0022 / 0.0014\n",
            "[1649/2000][3/4]\tLoss_D: 0.0075\tLoss_G: 6.6143\tD(x): 0.9957\tD(G(z)): 0.0031 / 0.0020\n",
            "[1662/2000][1/4]\tLoss_D: 0.0039\tLoss_G: 7.2819\tD(x): 0.9977\tD(G(z)): 0.0015 / 0.0012\n",
            "[1674/2000][3/4]\tLoss_D: 0.0148\tLoss_G: 6.2021\tD(x): 0.9870\tD(G(z)): 0.0016 / 0.0027\n",
            "[1687/2000][1/4]\tLoss_D: 0.3573\tLoss_G: 7.1480\tD(x): 0.9297\tD(G(z)): 0.0006 / 0.0284\n",
            "[1699/2000][3/4]\tLoss_D: 0.0042\tLoss_G: 7.1374\tD(x): 0.9981\tD(G(z)): 0.0022 / 0.0013\n",
            "[1712/2000][1/4]\tLoss_D: 0.0096\tLoss_G: 7.4527\tD(x): 0.9996\tD(G(z)): 0.0090 / 0.0008\n",
            "[1724/2000][3/4]\tLoss_D: 0.0030\tLoss_G: 7.6784\tD(x): 0.9983\tD(G(z)): 0.0012 / 0.0009\n",
            "[1737/2000][1/4]\tLoss_D: 0.0015\tLoss_G: 7.4400\tD(x): 0.9998\tD(G(z)): 0.0014 / 0.0011\n",
            "[1749/2000][3/4]\tLoss_D: 0.0032\tLoss_G: 7.0689\tD(x): 0.9985\tD(G(z)): 0.0017 / 0.0013\n",
            "[1762/2000][1/4]\tLoss_D: 0.0025\tLoss_G: 7.9185\tD(x): 0.9987\tD(G(z)): 0.0013 / 0.0010\n",
            "[1774/2000][3/4]\tLoss_D: 0.0544\tLoss_G: 35.0964\tD(x): 0.9692\tD(G(z)): 0.0004 / 0.0000\n",
            "[1787/2000][1/4]\tLoss_D: 0.0054\tLoss_G: 7.1214\tD(x): 0.9991\tD(G(z)): 0.0045 / 0.0010\n",
            "[1799/2000][3/4]\tLoss_D: 0.0097\tLoss_G: 7.7817\tD(x): 0.9986\tD(G(z)): 0.0081 / 0.0011\n",
            "[1812/2000][1/4]\tLoss_D: 0.0052\tLoss_G: 6.4828\tD(x): 0.9995\tD(G(z)): 0.0047 / 0.0021\n",
            "[1824/2000][3/4]\tLoss_D: 0.0037\tLoss_G: 7.4403\tD(x): 0.9984\tD(G(z)): 0.0021 / 0.0013\n",
            "[1837/2000][1/4]\tLoss_D: 0.0069\tLoss_G: 8.0574\tD(x): 0.9941\tD(G(z)): 0.0010 / 0.0005\n",
            "[1849/2000][3/4]\tLoss_D: 0.0283\tLoss_G: 16.9768\tD(x): 0.9997\tD(G(z)): 0.0262 / 0.0015\n",
            "[1862/2000][1/4]\tLoss_D: 0.0076\tLoss_G: 7.4005\tD(x): 0.9951\tD(G(z)): 0.0026 / 0.0011\n",
            "[1874/2000][3/4]\tLoss_D: 0.0219\tLoss_G: 6.2346\tD(x): 0.9839\tD(G(z)): 0.0017 / 0.0090\n",
            "[1887/2000][1/4]\tLoss_D: 0.0038\tLoss_G: 7.3582\tD(x): 0.9980\tD(G(z)): 0.0018 / 0.0007\n",
            "[1899/2000][3/4]\tLoss_D: 0.0024\tLoss_G: 7.9140\tD(x): 0.9981\tD(G(z)): 0.0004 / 0.0005\n",
            "[1912/2000][1/4]\tLoss_D: 0.0068\tLoss_G: 6.4694\tD(x): 0.9992\tD(G(z)): 0.0059 / 0.0024\n",
            "[1924/2000][3/4]\tLoss_D: 0.0136\tLoss_G: 6.1233\tD(x): 0.9968\tD(G(z)): 0.0103 / 0.0040\n",
            "[1937/2000][1/4]\tLoss_D: 0.0152\tLoss_G: 6.6826\tD(x): 0.9986\tD(G(z)): 0.0136 / 0.0022\n",
            "[1949/2000][3/4]\tLoss_D: 0.0039\tLoss_G: 6.7164\tD(x): 0.9996\tD(G(z)): 0.0035 / 0.0015\n",
            "[1962/2000][1/4]\tLoss_D: 0.0094\tLoss_G: 6.5839\tD(x): 0.9926\tD(G(z)): 0.0018 / 0.0019\n",
            "[1974/2000][3/4]\tLoss_D: 0.0083\tLoss_G: 6.0606\tD(x): 0.9962\tD(G(z)): 0.0045 / 0.0031\n",
            "[1987/2000][1/4]\tLoss_D: 0.0054\tLoss_G: 6.5620\tD(x): 0.9974\tD(G(z)): 0.0028 / 0.0016\n",
            "[1999/2000][3/4]\tLoss_D: 0.0030\tLoss_G: 6.9500\tD(x): 0.9997\tD(G(z)): 0.0027 / 0.0014\n"
          ]
        }
      ]
    },
    {
      "cell_type": "code",
      "source": [
        "import os\n",
        "\n",
        "directory = '/extracted_files/DCGAN_results_epoch_300/no/'\n",
        "\n",
        "if os.path.exists(directory):\n",
        "    print(f\"The directory {directory} exists.\")\n",
        "\n",
        "    # Count the number of images (files) in the directory\n",
        "    image_count = 0\n",
        "    for dirpath, dirnames, filenames in os.walk(directory):\n",
        "        image_count += len(filenames)\n",
        "\n",
        "    print(f\"The total number of images in the directory is {image_count}.\")\n",
        "else:\n",
        "    print(f\"The directory {directory} does not exist.\")\n"
      ],
      "metadata": {
        "colab": {
          "base_uri": "https://localhost:8080/"
        },
        "id": "91GbuvSgpk5c",
        "outputId": "27f3f9f8-9785-484a-e13b-a1ea11f316c4"
      },
      "execution_count": null,
      "outputs": [
        {
          "output_type": "stream",
          "name": "stdout",
          "text": [
            "The directory /extracted_files/DCGAN_results_epoch_300/no/ exists.\n",
            "The total number of images in the directory is 64.\n"
          ]
        }
      ]
    },
    {
      "cell_type": "code",
      "source": [
        "import os\n",
        "import torch\n",
        "import torchvision.utils as vutils\n",
        "\n",
        "# Define the output directory\n",
        "output_directory = '/extracted_files/no/'\n",
        "\n",
        "# Check if the directory exists, if not, create it\n",
        "if not os.path.exists(output_directory):\n",
        "    os.makedirs(output_directory)\n",
        "\n",
        "# Number of images to generate\n",
        "num_images_to_generate = 1500\n",
        "\n",
        "# Generate the images and save them\n",
        "for i in range(num_images_to_generate):\n",
        "    noise = torch.randn(1, nz, 1, 1, device=device)  # Generate noise for a single image\n",
        "    fake_image = netG(noise)  # Generate the image using the trained generator\n",
        "\n",
        "    # Save the image\n",
        "    vutils.save_image(fake_image.detach(), f'{output_directory}/fake_sample_{i + 1}.png', normalize=True)\n",
        "\n",
        "    if (i + 1) % 50 == 0:\n",
        "        print(f'Generated {i + 1}/{num_images_to_generate} images.')\n",
        "\n",
        "print(f\"Generated {num_images_to_generate} images and saved them in {output_directory}.\")\n"
      ],
      "metadata": {
        "colab": {
          "base_uri": "https://localhost:8080/"
        },
        "id": "ZyvZyTR_pusj",
        "outputId": "8af9501c-c198-4021-e1f6-81b0dd98fab6"
      },
      "execution_count": null,
      "outputs": [
        {
          "output_type": "stream",
          "name": "stdout",
          "text": [
            "Generated 50/1500 images.\n",
            "Generated 100/1500 images.\n",
            "Generated 150/1500 images.\n",
            "Generated 200/1500 images.\n",
            "Generated 250/1500 images.\n",
            "Generated 300/1500 images.\n",
            "Generated 350/1500 images.\n",
            "Generated 400/1500 images.\n",
            "Generated 450/1500 images.\n",
            "Generated 500/1500 images.\n",
            "Generated 550/1500 images.\n",
            "Generated 600/1500 images.\n",
            "Generated 650/1500 images.\n",
            "Generated 700/1500 images.\n",
            "Generated 750/1500 images.\n",
            "Generated 800/1500 images.\n",
            "Generated 850/1500 images.\n",
            "Generated 900/1500 images.\n",
            "Generated 950/1500 images.\n",
            "Generated 1000/1500 images.\n",
            "Generated 1050/1500 images.\n",
            "Generated 1100/1500 images.\n",
            "Generated 1150/1500 images.\n",
            "Generated 1200/1500 images.\n",
            "Generated 1250/1500 images.\n",
            "Generated 1300/1500 images.\n",
            "Generated 1350/1500 images.\n",
            "Generated 1400/1500 images.\n",
            "Generated 1450/1500 images.\n",
            "Generated 1500/1500 images.\n",
            "Generated 1500 images and saved them in /extracted_files/no/.\n"
          ]
        }
      ]
    }
  ]
}